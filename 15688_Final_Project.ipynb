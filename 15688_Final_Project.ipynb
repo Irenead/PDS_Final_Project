{
 "cells": [
  {
   "cell_type": "markdown",
   "metadata": {},
   "source": [
    "# 15-688 Final Project: Text Analysis of Yelp Reviews"
   ]
  },
  {
   "cell_type": "markdown",
   "metadata": {},
   "source": [
    "### Xinpeng Zheng (xinpengz) & Yiling Zhong (yzhong1)"
   ]
  },
  {
   "cell_type": "code",
   "execution_count": 1,
   "metadata": {},
   "outputs": [
    {
     "data": {
      "text/html": [
       "\n",
       "        <div>\n",
       "            <p><b>SparkContext</b></p>\n",
       "\n",
       "            <p><a href=\"http://10.4.216.3:4040\">Spark UI</a></p>\n",
       "\n",
       "            <dl>\n",
       "              <dt>Version</dt>\n",
       "                <dd><code>v2.2.0</code></dd>\n",
       "              <dt>Master</dt>\n",
       "                <dd><code>local[*]</code></dd>\n",
       "              <dt>AppName</dt>\n",
       "                <dd><code>pyspark-shell</code></dd>\n",
       "            </dl>\n",
       "        </div>\n",
       "        "
      ],
      "text/plain": [
       "<SparkContext master=local[*] appName=pyspark-shell>"
      ]
     },
     "execution_count": 1,
     "metadata": {},
     "output_type": "execute_result"
    }
   ],
   "source": [
    "import sys\n",
    "sys.path.append(\"/opt/packages/spark/latest/python/lib/py4j-0.10.4-src.zip\")\n",
    "sys.path.append(\"/opt/packages/spark/latest/python/\")\n",
    "sys.path.append(\"/opt/packages/spark/latest/python/pyspark\")\n",
    "from pyspark import SparkConf, SparkContext\n",
    "sc = SparkContext()\n",
    "sc"
   ]
  },
  {
   "cell_type": "code",
   "execution_count": 3,
   "metadata": {},
   "outputs": [],
   "source": [
    "from pyspark.mllib.tree import DecisionTree, DecisionTreeModel\n",
    "from pyspark.mllib.tree import RandomForest, RandomForestModel\n",
    "from pyspark.mllib.tree import GradientBoostedTrees, GradientBoostedTreesModel\n",
    "from pyspark.mllib.linalg import Vectors, DenseVector, SparseVector\n",
    "from pyspark.mllib.recommendation import ALS, MatrixFactorizationModel, Rating\n",
    "from pyspark.mllib.regression import LabeledPoint\n",
    "import matplotlib.pyplot as plt\n",
    "import json\n",
    "from pyspark import SparkConf, SparkContext\n",
    "import collections\n",
    "import ast\n",
    "import numpy as np"
   ]
  },
  {
   "cell_type": "markdown",
   "metadata": {},
   "source": [
    "### In this project, we will be using a library called pyspark. http://spark.apache.org/docs/2.2.0/api/python/pyspark.html pyspark can be used to implement distributed data management and machine learning.\n",
    "\n",
    "Pyspark can be used to process large volume of data (sciklearn is useful too but will not scale well). For the purpose of this assignment, our dataset is limited in size. We tried to collect a larger dataset, but our scraping method was too slow. However, in real practice, there are billions of data on Yelp and we need to consider scalability. The data collection process and code is in the appendix at the end of this notebook. "
   ]
  },
  {
   "cell_type": "code",
   "execution_count": 40,
   "metadata": {},
   "outputs": [
    {
     "name": "stdout",
     "output_type": "stream",
     "text": [
      "4600\n",
      "[{'business_id': 'u4sTiCzVeIHZY8OlaL346Q', 'date': '4/28/2018', 'name': 'Christy', 'rating': '5.0', 'review_id': 'qKznNGIhYpFVcmRv-ng5zA', 'text': \"Our absolute favorite place to eat in Pittsburgh. Always worth the long wait in line. Some of the best chimichurri you'll ever have- do yourself a favor and get some extra toast just to dip in the sauces. I recommend the Asado Platter- good to split between 4 people when you order lots of sides! The empanadas are also great, but they do sometimes run out before the end of the night, so try to get there before then! 10/10 highly recommend. Great food at a reasonable price considering the quality & quantity. Be sure to bring your own wine or beer!\", 'user_id': 'KcHfZCMMO5jU4p9rYlVxEA', 'votes': \"{'useful': 0.0, 'funny': 0.0, 'cool': 0.0}\"}]\n"
     ]
    }
   ],
   "source": [
    "## Transform the data from json into rdd. The data collection and tranformation into json is in the scrape notebook. \n",
    "def get_rdd_from_path(path):\n",
    "    file_reader = open(path, 'r')\n",
    "    str_contents = file_reader.readlines()\n",
    "    json_contents = [json.loads(x.strip()) for x in str_contents]\n",
    "    rdd = sc.parallelize(json_contents)\n",
    "    return rdd\n",
    "\n",
    "reviews = get_rdd_from_path('reviews.json')\n",
    "print(reviews.count())\n",
    "print(reviews.take(1))"
   ]
  },
  {
   "cell_type": "markdown",
   "metadata": {},
   "source": [
    "The dataset reviews contains information about business reviews written by users on Yelp. Each review's data is stored as a Python dictionary. The dictionary consists of the following fields:\n",
    "\n",
    "*  \"review_id\" : encrypted review id\n",
    "*  \"user_id\" : encrypted user id\n",
    "*  \"business_id\" : encrypted business id\n",
    "*  \"rating\" : star rating rounded to half-stars\n",
    "*  \"text\" : review text\n",
    "*  \"useful\" : number of useful votes received\n",
    "*  \"funny\" : number of funny votes received\n",
    "*  \"cool\" : number of cool review votes received"
   ]
  },
  {
   "cell_type": "markdown",
   "metadata": {},
   "source": [
    "# Descriptive Analysis"
   ]
  },
  {
   "cell_type": "markdown",
   "metadata": {},
   "source": [
    "We want to see if users are more willing to give out good reviews. As we can see, the average ratings a user gives out is 4.28 stars in our dataset. Most reviews are positive. "
   ]
  },
  {
   "cell_type": "code",
   "execution_count": 37,
   "metadata": {},
   "outputs": [
    {
     "name": "stdout",
     "output_type": "stream",
     "text": [
      "4.282826086956522\n"
     ]
    },
    {
     "data": {
      "image/png": "[encoded data removed]",
      "text/plain": [
       "<matplotlib.figure.Figure at 0x2ad834b2e3c8>"
      ]
     },
     "metadata": {},
     "output_type": "display_data"
    }
   ],
   "source": [
    "review_rating_counts = reviews.map(lambda x: float(x['rating'])).collect()\n",
    "print(sum(review_rating_counts)/len(review_rating_counts))\n",
    "plt.hist(review_rating_counts, bins=[x/2-0.25 for x in range(2, 12)])\n",
    "plt.xlabel('Ratings')\n",
    "plt.ylabel('Number of Reviews')\n",
    "plt.show()"
   ]
  },
  {
   "cell_type": "markdown",
   "metadata": {},
   "source": [
    "Also, most users are not frequent reviewers. The average user has submitted one review. "
   ]
  },
  {
   "cell_type": "code",
   "execution_count": 19,
   "metadata": {},
   "outputs": [
    {
     "data": {
      "image/png": "[encoded data removed]",
      "text/plain": [
       "<matplotlib.figure.Figure at 0x2b3e994c77f0>"
      ]
     },
     "metadata": {},
     "output_type": "display_data"
    }
   ],
   "source": [
    "user_review_counts = list(reviews.map(lambda x : x['user_id']).countByValue().values())\n",
    "plt.hist(user_review_counts, bins=[x for x in range(1, 15)])\n",
    "plt.xlabel('Number of Reviews')\n",
    "plt.ylabel('Number of Users')\n",
    "plt.show()"
   ]
  },
  {
   "cell_type": "markdown",
   "metadata": {},
   "source": [
    "Other users can vote on the usefulness, funniness, and coolness of a review. The following graph plots the histogram of useful votes reviews have. "
   ]
  },
  {
   "cell_type": "code",
   "execution_count": 24,
   "metadata": {},
   "outputs": [
    {
     "data": {
      "image/png": "[encoded data removed]",
      "text/plain": [
       "<matplotlib.figure.Figure at 0x2b3e99c38fd0>"
      ]
     },
     "metadata": {},
     "output_type": "display_data"
    }
   ],
   "source": [
    "review_useful_counts = reviews.map(lambda x : ast.literal_eval(x['votes'])['useful']).collect()\n",
    "\n",
    "plt.hist(review_useful_counts, bins=[x for x in range(1, 10)])\n",
    "plt.xlabel('Number of Useful Votes')\n",
    "plt.ylabel('Number of Reviews')\n",
    "plt.show()"
   ]
  },
  {
   "cell_type": "markdown",
   "metadata": {},
   "source": [
    "We wanted to see if male and female users have different behavior when writing reviews. First we extract, based on first name, the gender user an unique ids is linked to. We then seprated reviews into reviews by male users, and reviews by female users. "
   ]
  },
  {
   "cell_type": "code",
   "execution_count": 25,
   "metadata": {},
   "outputs": [
    {
     "name": "stdout",
     "output_type": "stream",
     "text": [
      "First five male names:  ['Aamir', 'Aaron', 'Abbey', 'Abbie', 'Abbot']\n",
      "Number of male names:  2943\n",
      "First five female names:  ['Abagael', 'Abagail', 'Abbe', 'Abbey', 'Abbi']\n",
      "Number of female names:  5001\n"
     ]
    }
   ],
   "source": [
    "# helper function to load a list of names, thanks to Abhinav Maurya\n",
    "def get_names_from_path(path):\n",
    "    file_reader = open(path, 'r')\n",
    "    str_contents = file_reader.readlines()\n",
    "    str_contents = [x.strip() for x in str_contents]\n",
    "    result = str_contents[6:]\n",
    "    return result\n",
    "\n",
    "male_names = get_names_from_path('/pylon5/ci5619p/ahmaurya/male.txt')\n",
    "print('First five male names: ', male_names[:5])\n",
    "print('Number of male names: ', len(male_names))\n",
    "\n",
    "female_names = get_names_from_path('/pylon5/ci5619p/ahmaurya/female.txt')\n",
    "print('First five female names: ', female_names[:5])\n",
    "print('Number of female names: ', len(female_names))"
   ]
  },
  {
   "cell_type": "code",
   "execution_count": 26,
   "metadata": {
    "collapsed": true
   },
   "outputs": [],
   "source": [
    "male_users = reviews.filter(lambda x : x['name'] in male_names)\n",
    "female_users = reviews.filter(lambda x : x['name'] in female_names)\n",
    "\n",
    "male_user_ids = male_users.map(lambda x : x['user_id']).collect()\n",
    "female_user_ids = female_users.map(lambda x : x['user_id']).collect()"
   ]
  },
  {
   "cell_type": "markdown",
   "metadata": {},
   "source": [
    "We calculate the average review length for both genders. "
   ]
  },
  {
   "cell_type": "code",
   "execution_count": 33,
   "metadata": {},
   "outputs": [
    {
     "name": "stdout",
     "output_type": "stream",
     "text": [
      "Male and female review length averages:  666.4636258660504 737.6032282282295\n"
     ]
    }
   ],
   "source": [
    "male_reviews = reviews.filter(lambda x : x['user_id'] in male_user_ids ).map(lambda x : x['text'])\n",
    "female_reviews = reviews.filter(lambda x : x['user_id'] in female_user_ids ).map(lambda x : x['text'])\n",
    "male_word_count = male_reviews.map(lambda x : len(x))\n",
    "female_word_count = female_reviews.map(lambda x : len(x))\n",
    "\n",
    "print ('Male and female review length averages: ', male_word_count.mean(),female_word_count.mean())"
   ]
  },
  {
   "cell_type": "markdown",
   "metadata": {},
   "source": [
    "The following is a histogram of review words length. From this we can see that women are more likely to write reviews, and to write longer reviews compared with men in our dataset. "
   ]
  },
  {
   "cell_type": "code",
   "execution_count": 34,
   "metadata": {},
   "outputs": [
    {
     "data": {
      "image/png": "[encoded data removed]",
      "text/plain": [
       "<matplotlib.figure.Figure at 0x2ad8345e7a20>"
      ]
     },
     "metadata": {},
     "output_type": "display_data"
    }
   ],
   "source": [
    "female_reviews_length = female_word_count.collect()\n",
    "male_reviews_length = male_word_count.collect()\n",
    "\n",
    "bins = np.linspace(0, 1000)\n",
    "\n",
    "plt.hist(female_reviews_length, bins, alpha=0.5, label = 'Female')\n",
    "plt.hist(male_reviews_length, bins, alpha=0.5, label = 'Male')\n",
    "plt.xlabel('Number of words')\n",
    "plt.ylabel('Number of reviews')\n",
    "plt.legend()\n",
    "plt.show()"
   ]
  },
  {
   "cell_type": "markdown",
   "metadata": {},
   "source": [
    "## Prediction of votes using tree ensemble methods\n",
    "\n",
    "#### Under each review, there are vote buttons for funny,useful or cool. Users can use these vote on the reviews of others. Utilizing the classification method, we can identify what kind of reviews are the most useful to users, based on user generated votes Featuring reviews mostly likely to be useful on the top of the page will help people find good reviews easier. \n",
    "\n",
    "![funny_vote.png](attachment:funny_vote.png)"
   ]
  },
  {
   "cell_type": "code",
   "execution_count": 69,
   "metadata": {},
   "outputs": [
    {
     "name": "stdout",
     "output_type": "stream",
     "text": [
      "[(\"Our absolute favorite place to eat in Pittsburgh. Always worth the long wait in line. Some of the best chimichurri you'll ever have- do yourself a favor and get some extra toast just to dip in the sauces. I recommend the Asado Platter- good to split between 4 people when you order lots of sides! The empanadas are also great, but they do sometimes run out before the end of the night, so try to get there before then! 10/10 highly recommend. Great food at a reasonable price considering the quality & quantity. Be sure to bring your own wine or beer!\", 0.0)]\n",
      "('Our', 283)\n",
      "Number of unique words:  42003\n"
     ]
    }
   ],
   "source": [
    "max_words = 50000\n",
    "\n",
    "all_reviews = reviews.map(lambda x : (x['text'], ast.literal_eval(x['votes'])['useful']))\n",
    "print(all_reviews.take(1))\n",
    "word_counts = list(all_reviews.flatMap(lambda x : x[0].split(\" \")).map(lambda x: (x,1)).countByKey().items())\n",
    "print(word_counts[0])\n",
    "word_counts = sorted(word_counts, key=lambda x: -x[1])\n",
    "\n",
    "unique_words = [x[0] for x in word_counts[:max_words]]\n",
    "num_unique_words = len(unique_words)\n",
    "print('Number of unique words: ', num_unique_words)\n"
   ]
  },
  {
   "cell_type": "code",
   "execution_count": 70,
   "metadata": {
    "collapsed": true
   },
   "outputs": [],
   "source": [
    "word_to_index_dict = {unique_words[i]:i for i in range(len(unique_words))}\n",
    "index_to_word_dict = {i:unique_words[i] for i in range(len(unique_words))}"
   ]
  },
  {
   "cell_type": "code",
   "execution_count": 71,
   "metadata": {
    "collapsed": true
   },
   "outputs": [],
   "source": [
    "longest_review_len = all_reviews.map(lambda x: len([w for w in x[0].split() if w in word_to_index_dict]))\\\n",
    "                                .max()\n",
    "def gen_features(words):\n",
    "    result = np.zeros(longest_review_len) - 1\n",
    "    valid_words = [word_to_index_dict[w] for w in words if w in word_to_index_dict]\n",
    "    result[:len(valid_words)] = valid_words\n",
    "    return result\n",
    "doc_vectors = all_reviews.map(lambda x: (x[1], x[0].split()))\\\n",
    "                         .map(lambda x: LabeledPoint(x[0], gen_features(x[1])))"
   ]
  },
  {
   "cell_type": "code",
   "execution_count": 72,
   "metadata": {
    "collapsed": true
   },
   "outputs": [],
   "source": [
    "#Split the data into train and test\n",
    "doc_vectors_train, doc_vectors_val = doc_vectors.randomSplit([0.8,0.2], seed=244)"
   ]
  },
  {
   "cell_type": "markdown",
   "metadata": {},
   "source": [
    "Baseline prediction"
   ]
  },
  {
   "cell_type": "code",
   "execution_count": 73,
   "metadata": {},
   "outputs": [
    {
     "name": "stdout",
     "output_type": "stream",
     "text": [
      "Validation Root Mean Squared Error (Baseline) = 3400866.7098623854\n",
      "Learned baseline prediction:  1846\n"
     ]
    }
   ],
   "source": [
    "##Get a baseline prediction\n",
    "most_common_prediction = doc_vectors_train.map(lambda x : (x.label,1)).reduceByKey(lambda x,y : x+y)\\\n",
    "                                          .map(lambda x : x[1]).takeOrdered(1, key = lambda x: -x)[0]\n",
    "#print(most_common_prediction)\n",
    "labels_and_predictions = doc_vectors_val.map(lambda lp: (lp.label, most_common_prediction))\n",
    "val_mse = labels_and_predictions.map(lambda lp: (lp[0] - lp[1]) * (lp[0] - lp[1])).sum() /\\\n",
    "    float(doc_vectors_val.count())\n",
    "print('Validation Root Mean Squared Error (Baseline) = ' + str(val_mse))\n",
    "print('Learned baseline prediction: ', most_common_prediction)"
   ]
  },
  {
   "cell_type": "markdown",
   "metadata": {},
   "source": [
    "#### Let us now use a Decision Tree to predict the number of useful votes. As we are using regression, the impurity measurement is set to variance"
   ]
  },
  {
   "cell_type": "code",
   "execution_count": 74,
   "metadata": {},
   "outputs": [
    {
     "name": "stdout",
     "output_type": "stream",
     "text": [
      "Validation Root Mean Squared Error (Decision Tree) = 81.48954456179776\n",
      "Learned regression tree model:\n",
      "DecisionTreeModel regressor of depth 5 with 49 nodes\n",
      "  If (feature 141 <= 0.5)\n",
      "   If (feature 112 <= 830.0)\n",
      "    If (feature 57 <= 0.5)\n",
      "     If (feature 13 <= 7327.0)\n",
      "      If (feature 3 <= 1607.5)\n",
      "       Predict: 0.40309155766944116\n",
      "      Else (feature 3 > 1607.5)\n",
      "       Predict: 0.7802197802197802\n",
      "     Else (feature 13 > 7327.0)\n",
      "      If (feature 31 <= 5683.0)\n",
      "       Predict: 0.6610169491525424\n",
      "      Else (feature 31 > 5683.0)\n",
      "       Predict: 14.25\n",
      "    Else (feature 57 > 0.5)\n",
      "     If (feature 46 <= 18648.5)\n",
      "      If (feature 80 <= 2639.0)\n",
      "       Predict: 0.9237668161434978\n",
      "      Else (feature 80 > 2639.0)\n",
      "       Predict: 1.793103448275862\n",
      "     Else (feature 46 > 18648.5)\n",
      "      If (feature 58 <= -0.5)\n",
      "       Predict: 43.0\n",
      "      Else (feature 58 > -0.5)\n",
      "       Predict: 1.8703703703703705\n",
      "   Else (feature 112 > 830.0)\n",
      "    If (feature 75 <= 0.5)\n",
      "     If (feature 0 <= 962.0)\n",
      "      If (feature 0 <= 7.0)\n",
      "       Predict: 1.0\n",
      "      Else (feature 0 > 7.0)\n",
      "       Predict: 23.0\n",
      "     Else (feature 0 > 962.0)\n",
      "      Predict: 84.0\n",
      "    Else (feature 75 > 0.5)\n",
      "     If (feature 14 <= 19086.5)\n",
      "      If (feature 31 <= 20461.0)\n",
      "       Predict: 1.345132743362832\n",
      "      Else (feature 31 > 20461.0)\n",
      "       Predict: 7.5\n",
      "     Else (feature 14 > 19086.5)\n",
      "      If (feature 0 <= 722.0)\n",
      "       Predict: 56.0\n",
      "      Else (feature 0 > 722.0)\n",
      "       Predict: 0.0\n",
      "  Else (feature 141 > 0.5)\n",
      "   If (feature 607 <= 6875.5)\n",
      "    If (feature 16 <= 21427.0)\n",
      "     If (feature 276 <= 30.5)\n",
      "      If (feature 23 <= 3150.5)\n",
      "       Predict: 2.274532710280374\n",
      "      Else (feature 23 > 3150.5)\n",
      "       Predict: 4.4\n",
      "     Else (feature 276 > 30.5)\n",
      "      If (feature 278 <= -0.5)\n",
      "       Predict: 37.42857142857143\n",
      "      Else (feature 278 > -0.5)\n",
      "       Predict: 4.9504950495049505\n",
      "    Else (feature 16 > 21427.0)\n",
      "     If (feature 53 <= 18214.0)\n",
      "      If (feature 70 <= 0.5)\n",
      "       Predict: 90.0\n",
      "      Else (feature 70 > 0.5)\n",
      "       Predict: 3.0\n",
      "     Else (feature 53 > 18214.0)\n",
      "      Predict: 219.0\n",
      "   Else (feature 607 > 6875.5)\n",
      "    If (feature 1 <= 30.5)\n",
      "     Predict: 49.0\n",
      "    Else (feature 1 > 30.5)\n",
      "     If (feature 0 <= 2809.0)\n",
      "      Predict: 23.0\n",
      "     Else (feature 0 > 2809.0)\n",
      "      Predict: 22.0\n",
      "\n"
     ]
    }
   ],
   "source": [
    "dt_model = DecisionTree.trainRegressor(doc_vectors_train,categoricalFeaturesInfo={},impurity='variance', maxDepth=5)\n",
    "\n",
    "predictions = dt_model.predict(doc_vectors_val.map(lambda x: x.features))\n",
    "labels_and_predictions = doc_vectors_val.map(lambda lp: lp.label).zip(predictions)\n",
    "val_mse = labels_and_predictions.map(lambda lp: (lp[0] - lp[1]) * (lp[0] - lp[1])).sum() /\\\n",
    "    float(doc_vectors_val.count())\n",
    "print('Validation Root Mean Squared Error (Decision Tree) = ' + str(val_mse))\n",
    "print('Learned regression tree model:')\n",
    "print(dt_model.toDebugString())"
   ]
  },
  {
   "cell_type": "markdown",
   "metadata": {},
   "source": [
    "#### Let us now use a Random Forest ensemble to predict the number of useful votes. We set the maximum depth of the tree to 5 and variance impurity for regression."
   ]
  },
  {
   "cell_type": "code",
   "execution_count": 75,
   "metadata": {},
   "outputs": [
    {
     "name": "stdout",
     "output_type": "stream",
     "text": [
      "Validation Root Mean Squared Error (Random Forest) = 93.10123414875125\n",
      "Learned regression RF model:\n",
      "TreeEnsembleModel regressor with 10 trees\n",
      "\n",
      "  Tree 0:\n",
      "    If (feature 206 <= 6.5)\n",
      "     If (feature 99 <= 3.5)\n",
      "      If (feature 46 <= 18648.5)\n",
      "       If (feature 186 <= 209.5)\n",
      "        If (feature 52 <= 0.5)\n",
      "         Predict: 0.48264984227129337\n",
      "        Else (feature 52 > 0.5)\n",
      "         Predict: 0.8271983640081799\n",
      "       Else (feature 186 > 209.5)\n",
      "        If (feature 73 <= 5.5)\n",
      "         Predict: 10.5\n",
      "        Else (feature 73 > 5.5)\n",
      "         Predict: 2.375\n",
      "      Else (feature 46 > 18648.5)\n",
      "       If (feature 38 <= 1.5)\n",
      "        If (feature 8 <= 1.5)\n",
      "         Predict: 43.0\n",
      "        Else (feature 8 > 1.5)\n",
      "         Predict: 1.0\n",
      "       Else (feature 38 > 1.5)\n",
      "        If (feature 7 <= 0.5)\n",
      "         Predict: 22.0\n",
      "        Else (feature 7 > 0.5)\n",
      "         Predict: 0.8936170212765957\n",
      "     Else (feature 99 > 3.5)\n",
      "      If (feature 21 <= 23632.5)\n",
      "       If (feature 542 <= 160.5)\n",
      "        If (feature 37 <= 20789.5)\n",
      "         Predict: 1.799090909090909\n",
      "        Else (feature 37 > 20789.5)\n",
      "         Predict: 5.228571428571429\n",
      "       Else (feature 542 > 160.5)\n",
      "        Predict: 20.0\n",
      "      Else (feature 21 > 23632.5)\n",
      "       If (feature 12 <= 9558.5)\n",
      "        If (feature 1 <= 3.5)\n",
      "         Predict: 11.0\n",
      "        Else (feature 1 > 3.5)\n",
      "         Predict: 1.411764705882353\n",
      "       Else (feature 12 > 9558.5)\n",
      "        Predict: 84.0\n",
      "    Else (feature 206 > 6.5)\n",
      "     If (feature 56 <= 17256.0)\n",
      "      If (feature 375 <= 55.5)\n",
      "       If (feature 6 <= 0.5)\n",
      "        If (feature 7 <= 989.5)\n",
      "         Predict: 21.333333333333332\n",
      "        Else (feature 7 > 989.5)\n",
      "         Predict: 0.8888888888888888\n",
      "       Else (feature 6 > 0.5)\n",
      "        If (feature 274 <= 7.5)\n",
      "         Predict: 2.5068965517241377\n",
      "        Else (feature 274 > 7.5)\n",
      "         Predict: 4.561497326203209\n",
      "      Else (feature 375 > 55.5)\n",
      "       If (feature 37 <= 10.5)\n",
      "        If (feature 325 <= 0.5)\n",
      "         Predict: 38.0\n",
      "        Else (feature 325 > 0.5)\n",
      "         Predict: 18.25\n",
      "       Else (feature 37 > 10.5)\n",
      "        If (feature 453 <= 5.5)\n",
      "         Predict: 2.4482758620689653\n",
      "        Else (feature 453 > 5.5)\n",
      "         Predict: 12.052631578947368\n",
      "     Else (feature 56 > 17256.0)\n",
      "      If (feature 13 <= 7327.0)\n",
      "       If (feature 12 <= 1556.5)\n",
      "        If (feature 82 <= 2575.0)\n",
      "         Predict: 2.4375\n",
      "        Else (feature 82 > 2575.0)\n",
      "         Predict: 15.333333333333334\n",
      "       Else (feature 12 > 1556.5)\n",
      "        Predict: 90.0\n",
      "      Else (feature 13 > 7327.0)\n",
      "       Predict: 212.0\n",
      "  Tree 1:\n",
      "    If (feature 159 <= 4254.5)\n",
      "     If (feature 121 <= 7.5)\n",
      "      If (feature 96 <= 13.5)\n",
      "       If (feature 68 <= 5.5)\n",
      "        If (feature 127 <= 918.5)\n",
      "         Predict: 0.5467625899280576\n",
      "        Else (feature 127 > 918.5)\n",
      "         Predict: 10.0\n",
      "       Else (feature 68 > 5.5)\n",
      "        If (feature 44 <= 0.5)\n",
      "         Predict: 3.130434782608696\n",
      "        Else (feature 44 > 0.5)\n",
      "         Predict: 0.9424083769633508\n",
      "      Else (feature 96 > 13.5)\n",
      "       If (feature 5 <= 4435.5)\n",
      "        If (feature 285 <= 337.0)\n",
      "         Predict: 1.58\n",
      "        Else (feature 285 > 337.0)\n",
      "         Predict: 5.785714285714286\n",
      "       Else (feature 5 > 4435.5)\n",
      "        If (feature 17 <= 1219.0)\n",
      "         Predict: 1.1724137931034482\n",
      "        Else (feature 17 > 1219.0)\n",
      "         Predict: 36.2\n",
      "     Else (feature 121 > 7.5)\n",
      "      If (feature 107 <= 0.5)\n",
      "       If (feature 80 <= 1.5)\n",
      "        Predict: 219.0\n",
      "       Else (feature 80 > 1.5)\n",
      "        If (feature 44 <= 9.5)\n",
      "         Predict: 12.0\n",
      "        Else (feature 44 > 9.5)\n",
      "         Predict: 2.27027027027027\n",
      "      Else (feature 107 > 0.5)\n",
      "       If (feature 395 <= 36.0)\n",
      "        If (feature 210 <= 390.0)\n",
      "         Predict: 2.2488839285714284\n",
      "        Else (feature 210 > 390.0)\n",
      "         Predict: 4.959731543624161\n",
      "       Else (feature 395 > 36.0)\n",
      "        If (feature 117 <= 4.5)\n",
      "         Predict: 25.7\n",
      "        Else (feature 117 > 4.5)\n",
      "         Predict: 5.805555555555555\n",
      "    Else (feature 159 > 4254.5)\n",
      "     If (feature 96 <= 0.5)\n",
      "      If (feature 3 <= 82.5)\n",
      "       Predict: 212.0\n",
      "      Else (feature 3 > 82.5)\n",
      "       If (feature 377 <= -0.5)\n",
      "        Predict: 0.0\n",
      "       Else (feature 377 > -0.5)\n",
      "        Predict: 5.0\n",
      "     Else (feature 96 > 0.5)\n",
      "      If (feature 34 <= 2.5)\n",
      "       If (feature 27 <= 117.5)\n",
      "        If (feature 314 <= -0.5)\n",
      "         Predict: 36.0\n",
      "        Else (feature 314 > -0.5)\n",
      "         Predict: 44.0\n",
      "       Else (feature 27 > 117.5)\n",
      "        If (feature 1 <= 563.5)\n",
      "         Predict: 0.2857142857142857\n",
      "        Else (feature 1 > 563.5)\n",
      "         Predict: 5.0\n",
      "      Else (feature 34 > 2.5)\n",
      "       If (feature 713 <= 2.0)\n",
      "        If (feature 135 <= 0.5)\n",
      "         Predict: 14.0\n",
      "        Else (feature 135 > 0.5)\n",
      "         Predict: 2.787878787878788\n",
      "       Else (feature 713 > 2.0)\n",
      "        If (feature 701 <= 22.5)\n",
      "         Predict: 13.0\n",
      "        Else (feature 701 > 22.5)\n",
      "         Predict: 24.0\n",
      "  Tree 2:\n",
      "    If (feature 264 <= 37.5)\n",
      "     If (feature 117 <= 0.5)\n",
      "      If (feature 57 <= -0.5)\n",
      "       If (feature 45 <= 21225.5)\n",
      "        If (feature 3 <= 1607.5)\n",
      "         Predict: 0.38344988344988346\n",
      "        Else (feature 3 > 1607.5)\n",
      "         Predict: 0.7866666666666666\n",
      "       Else (feature 45 > 21225.5)\n",
      "        If (feature 0 <= 13395.0)\n",
      "         Predict: 0.25\n",
      "        Else (feature 0 > 13395.0)\n",
      "         Predict: 5.0\n",
      "      Else (feature 57 > -0.5)\n",
      "       If (feature 104 <= 1712.0)\n",
      "        If (feature 19 <= 9417.5)\n",
      "         Predict: 0.88800792864222\n",
      "        Else (feature 19 > 9417.5)\n",
      "         Predict: 1.8255813953488371\n",
      "       Else (feature 104 > 1712.0)\n",
      "        If (feature 57 <= 7204.0)\n",
      "         Predict: 0.8529411764705882\n",
      "        Else (feature 57 > 7204.0)\n",
      "         Predict: 13.333333333333334\n",
      "     Else (feature 117 > 0.5)\n",
      "      If (feature 16 <= 21427.0)\n",
      "       If (feature 15 <= 1080.0)\n",
      "        If (feature 246 <= 12.5)\n",
      "         Predict: 1.7179176755447942\n",
      "        Else (feature 246 > 12.5)\n",
      "         Predict: 3.515151515151515\n",
      "       Else (feature 15 > 1080.0)\n",
      "        If (feature 14 <= 19086.5)\n",
      "         Predict: 2.9929328621908127\n",
      "        Else (feature 14 > 19086.5)\n",
      "         Predict: 24.2\n",
      "      Else (feature 16 > 21427.0)\n",
      "       If (feature 34 <= 16594.5)\n",
      "        If (feature 3 <= 2.5)\n",
      "         Predict: 90.0\n",
      "        Else (feature 3 > 2.5)\n",
      "         Predict: 1.793103448275862\n",
      "       Else (feature 34 > 16594.5)\n",
      "        If (feature 0 <= 209.5)\n",
      "         Predict: 219.0\n",
      "        Else (feature 0 > 209.5)\n",
      "         Predict: 1.0\n",
      "    Else (feature 264 > 37.5)\n",
      "     If (feature 182 <= 0.5)\n",
      "      If (feature 24 <= 8.5)\n",
      "       Predict: 212.0\n",
      "      Else (feature 24 > 8.5)\n",
      "       If (feature 4 <= 189.5)\n",
      "        If (feature 481 <= 339.5)\n",
      "         Predict: 5.5\n",
      "        Else (feature 481 > 339.5)\n",
      "         Predict: 1.0\n",
      "       Else (feature 4 > 189.5)\n",
      "        Predict: 49.0\n",
      "     Else (feature 182 > 0.5)\n",
      "      If (feature 66 <= 0.5)\n",
      "       If (feature 36 <= 391.5)\n",
      "        If (feature 0 <= 34.0)\n",
      "         Predict: 1.0\n",
      "        Else (feature 0 > 34.0)\n",
      "         Predict: 0.0\n",
      "       Else (feature 36 > 391.5)\n",
      "        If (feature 433 <= 0.0)\n",
      "         Predict: 36.0\n",
      "        Else (feature 433 > 0.0)\n",
      "         Predict: 30.0\n",
      "      Else (feature 66 > 0.5)\n",
      "       If (feature 558 <= 98.5)\n",
      "        If (feature 322 <= 89.0)\n",
      "         Predict: 2.7841726618705036\n",
      "        Else (feature 322 > 89.0)\n",
      "         Predict: 6.254545454545455\n",
      "       Else (feature 558 > 98.5)\n",
      "        If (feature 17 <= 200.5)\n",
      "         Predict: 10.8\n",
      "        Else (feature 17 > 200.5)\n",
      "         Predict: 22.5\n",
      "  Tree 3:\n",
      "    If (feature 272 <= 31.0)\n",
      "     If (feature 118 <= 1.5)\n",
      "      If (feature 31 <= 10536.0)\n",
      "       If (feature 77 <= 30.5)\n",
      "        If (feature 171 <= 3508.5)\n",
      "         Predict: 0.5561290322580645\n",
      "        Else (feature 171 > 3508.5)\n",
      "         Predict: 9.0\n",
      "       Else (feature 77 > 30.5)\n",
      "        If (feature 153 <= 4757.0)\n",
      "         Predict: 1.15625\n",
      "        Else (feature 153 > 4757.0)\n",
      "         Predict: 4.714285714285714\n",
      "      Else (feature 31 > 10536.0)\n",
      "       If (feature 13 <= 7327.0)\n",
      "        If (feature 42 <= 7659.0)\n",
      "         Predict: 0.8571428571428571\n",
      "        Else (feature 42 > 7659.0)\n",
      "         Predict: 19.0\n",
      "       Else (feature 13 > 7327.0)\n",
      "        If (feature 14 <= 347.5)\n",
      "         Predict: 57.0\n",
      "        Else (feature 14 > 347.5)\n",
      "         Predict: 1.6\n",
      "     Else (feature 118 > 1.5)\n",
      "      If (feature 75 <= 0.5)\n",
      "       If (feature 108 <= 3878.0)\n",
      "        If (feature 48 <= 6431.0)\n",
      "         Predict: 1.9318181818181819\n",
      "        Else (feature 48 > 6431.0)\n",
      "         Predict: 67.0\n",
      "       Else (feature 108 > 3878.0)\n",
      "        Predict: 84.0\n",
      "      Else (feature 75 > 0.5)\n",
      "       If (feature 453 <= 230.5)\n",
      "        If (feature 172 <= 9.5)\n",
      "         Predict: 1.9474342928660826\n",
      "        Else (feature 172 > 9.5)\n",
      "         Predict: 3.043778801843318\n",
      "       Else (feature 453 > 230.5)\n",
      "        If (feature 456 <= 19.5)\n",
      "         Predict: 4.333333333333333\n",
      "        Else (feature 456 > 19.5)\n",
      "         Predict: 21.0\n",
      "    Else (feature 272 > 31.0)\n",
      "     If (feature 16 <= 0.5)\n",
      "      If (feature 2 <= 154.5)\n",
      "       If (feature 0 <= 71.5)\n",
      "        Predict: 5.0\n",
      "       Else (feature 0 > 71.5)\n",
      "        If (feature 0 <= 1093.0)\n",
      "         Predict: 0.0\n",
      "        Else (feature 0 > 1093.0)\n",
      "         Predict: 2.0\n",
      "      Else (feature 2 > 154.5)\n",
      "       Predict: 212.0\n",
      "     Else (feature 16 > 0.5)\n",
      "      If (feature 522 <= 3622.0)\n",
      "       If (feature 326 <= 12.5)\n",
      "        If (feature 194 <= 0.5)\n",
      "         Predict: 19.0\n",
      "        Else (feature 194 > 0.5)\n",
      "         Predict: 2.452830188679245\n",
      "       Else (feature 326 > 12.5)\n",
      "        If (feature 70 <= 0.5)\n",
      "         Predict: 44.0\n",
      "        Else (feature 70 > 0.5)\n",
      "         Predict: 6.020618556701031\n",
      "      Else (feature 522 > 3622.0)\n",
      "       If (feature 641 <= 448.5)\n",
      "        If (feature 2 <= 7.5)\n",
      "         Predict: 23.0\n",
      "        Else (feature 2 > 7.5)\n",
      "         Predict: 28.0\n",
      "       Else (feature 641 > 448.5)\n",
      "        Predict: 49.0\n",
      "  Tree 4:\n",
      "    If (feature 264 <= 23.5)\n",
      "     If (feature 146 <= 1.5)\n",
      "      If (feature 102 <= 1.5)\n",
      "       If (feature 57 <= 0.5)\n",
      "        If (feature 31 <= 10536.0)\n",
      "         Predict: 0.43711340206185567\n",
      "        Else (feature 31 > 10536.0)\n",
      "         Predict: 1.7906976744186047\n",
      "       Else (feature 57 > 0.5)\n",
      "        If (feature 58 <= -0.5)\n",
      "         Predict: 3.4\n",
      "        Else (feature 58 > -0.5)\n",
      "         Predict: 0.8658256880733946\n",
      "      Else (feature 102 > 1.5)\n",
      "       If (feature 23 <= 260.5)\n",
      "        If (feature 141 <= 85.5)\n",
      "         Predict: 0.9971509971509972\n",
      "        Else (feature 141 > 85.5)\n",
      "         Predict: 2.466666666666667\n",
      "       Else (feature 23 > 260.5)\n",
      "        If (feature 83 <= 2141.0)\n",
      "         Predict: 1.7053941908713692\n",
      "        Else (feature 83 > 2141.0)\n",
      "         Predict: 4.738095238095238\n",
      "     Else (feature 146 > 1.5)\n",
      "      If (feature 129 <= 0.5)\n",
      "       If (feature 27 <= 1.5)\n",
      "        Predict: 219.0\n",
      "       Else (feature 27 > 1.5)\n",
      "        If (feature 19 <= 1.5)\n",
      "         Predict: 67.0\n",
      "        Else (feature 19 > 1.5)\n",
      "         Predict: 4.705882352941177\n",
      "      Else (feature 129 > 0.5)\n",
      "       If (feature 100 <= 0.5)\n",
      "        If (feature 85 <= 3.5)\n",
      "         Predict: 36.42857142857143\n",
      "        Else (feature 85 > 3.5)\n",
      "         Predict: 2.4651162790697674\n",
      "       Else (feature 100 > 0.5)\n",
      "        If (feature 703 <= 6.5)\n",
      "         Predict: 2.2977099236641223\n",
      "        Else (feature 703 > 6.5)\n",
      "         Predict: 19.666666666666668\n",
      "    Else (feature 264 > 23.5)\n",
      "     If (feature 182 <= 0.5)\n",
      "      If (feature 5 <= 813.0)\n",
      "       If (feature 645 <= -0.5)\n",
      "        If (feature 4 <= 3.5)\n",
      "         Predict: 18.0\n",
      "        Else (feature 4 > 3.5)\n",
      "         Predict: 5.8\n",
      "       Else (feature 645 > -0.5)\n",
      "        Predict: 49.0\n",
      "      Else (feature 5 > 813.0)\n",
      "       Predict: 212.0\n",
      "     Else (feature 182 > 0.5)\n",
      "      If (feature 299 <= 39.0)\n",
      "       If (feature 214 <= 0.5)\n",
      "        If (feature 10 <= 281.5)\n",
      "         Predict: 14.8\n",
      "        Else (feature 10 > 281.5)\n",
      "         Predict: 3.3333333333333335\n",
      "       Else (feature 214 > 0.5)\n",
      "        If (feature 80 <= 14936.0)\n",
      "         Predict: 2.3421052631578947\n",
      "        Else (feature 80 > 14936.0)\n",
      "         Predict: 10.666666666666666\n",
      "      Else (feature 299 > 39.0)\n",
      "       If (feature 137 <= 19.5)\n",
      "        If (feature 52 <= 3707.5)\n",
      "         Predict: 7.176470588235294\n",
      "        Else (feature 52 > 3707.5)\n",
      "         Predict: 27.7\n",
      "       Else (feature 137 > 19.5)\n",
      "        If (feature 601 <= 4.5)\n",
      "         Predict: 4.36986301369863\n",
      "        Else (feature 601 > 4.5)\n",
      "         Predict: 17.333333333333332\n",
      "  Tree 5:\n",
      "    If (feature 147 <= 0.5)\n",
      "     If (feature 112 <= 169.0)\n",
      "      If (feature 57 <= 0.5)\n",
      "       If (feature 31 <= 10536.0)\n",
      "        If (feature 104 <= 11212.5)\n",
      "         Predict: 0.4553398058252427\n",
      "        Else (feature 104 > 11212.5)\n",
      "         Predict: 4.0\n",
      "       Else (feature 31 > 10536.0)\n",
      "        If (feature 27 <= 1338.5)\n",
      "         Predict: 0.48148148148148145\n",
      "        Else (feature 27 > 1338.5)\n",
      "         Predict: 14.5\n",
      "      Else (feature 57 > 0.5)\n",
      "       If (feature 14 <= 3.5)\n",
      "        If (feature 63 <= 2.5)\n",
      "         Predict: 5.282051282051282\n",
      "        Else (feature 63 > 2.5)\n",
      "         Predict: 0.9069767441860465\n",
      "       Else (feature 14 > 3.5)\n",
      "        If (feature 46 <= 18648.5)\n",
      "         Predict: 0.9285714285714286\n",
      "        Else (feature 46 > 18648.5)\n",
      "         Predict: 2.152173913043478\n",
      "     Else (feature 112 > 169.0)\n",
      "      If (feature 82 <= 1.5)\n",
      "       If (feature 66 <= 3383.0)\n",
      "        If (feature 19 <= 19.5)\n",
      "         Predict: 0.0\n",
      "        Else (feature 19 > 19.5)\n",
      "         Predict: 7.0\n",
      "       Else (feature 66 > 3383.0)\n",
      "        If (feature 3 <= 17.5)\n",
      "         Predict: 15.0\n",
      "        Else (feature 3 > 17.5)\n",
      "         Predict: 23.0\n",
      "      Else (feature 82 > 1.5)\n",
      "       If (feature 142 <= 5765.5)\n",
      "        If (feature 49 <= 0.5)\n",
      "         Predict: 7.428571428571429\n",
      "        Else (feature 49 > 0.5)\n",
      "         Predict: 1.2777777777777777\n",
      "       Else (feature 142 > 5765.5)\n",
      "        If (feature 37 <= 266.5)\n",
      "         Predict: 11.571428571428571\n",
      "        Else (feature 37 > 266.5)\n",
      "         Predict: 1.5\n",
      "    Else (feature 147 > 0.5)\n",
      "     If (feature 12 <= 23158.5)\n",
      "      If (feature 429 <= 121.5)\n",
      "       If (feature 297 <= 18.5)\n",
      "        If (feature 85 <= 0.5)\n",
      "         Predict: 6.090909090909091\n",
      "        Else (feature 85 > 0.5)\n",
      "         Predict: 2.1609071274298057\n",
      "       Else (feature 297 > 18.5)\n",
      "        If (feature 286 <= 1.5)\n",
      "         Predict: 17.25\n",
      "        Else (feature 286 > 1.5)\n",
      "         Predict: 4.075862068965518\n",
      "      Else (feature 429 > 121.5)\n",
      "       If (feature 201 <= 27.5)\n",
      "        If (feature 22 <= 20.5)\n",
      "         Predict: 28.0\n",
      "        Else (feature 22 > 20.5)\n",
      "         Predict: 14.0\n",
      "       Else (feature 201 > 27.5)\n",
      "        If (feature 11 <= 1.5)\n",
      "         Predict: 20.0\n",
      "        Else (feature 11 > 1.5)\n",
      "         Predict: 3.1333333333333333\n",
      "     Else (feature 12 > 23158.5)\n",
      "      If (feature 113 <= 9352.5)\n",
      "       If (feature 54 <= 0.5)\n",
      "        Predict: 18.0\n",
      "       Else (feature 54 > 0.5)\n",
      "        If (feature 125 <= 2437.0)\n",
      "         Predict: 0.4090909090909091\n",
      "        Else (feature 125 > 2437.0)\n",
      "         Predict: 2.75\n",
      "      Else (feature 113 > 9352.5)\n",
      "       Predict: 219.0\n",
      "  Tree 6:\n",
      "    If (feature 210 <= 27.5)\n",
      "     If (feature 117 <= 4.5)\n",
      "      If (feature 107 <= 13438.0)\n",
      "       If (feature 46 <= 18648.5)\n",
      "        If (feature 113 <= 9352.5)\n",
      "         Predict: 0.7501121579183491\n",
      "        Else (feature 113 > 9352.5)\n",
      "         Predict: 3.25\n",
      "       Else (feature 46 > 18648.5)\n",
      "        If (feature 17 <= 5.5)\n",
      "         Predict: 14.375\n",
      "        Else (feature 17 > 5.5)\n",
      "         Predict: 1.0172413793103448\n",
      "      Else (feature 107 > 13438.0)\n",
      "       If (feature 90 <= 1264.5)\n",
      "        If (feature 56 <= 455.5)\n",
      "         Predict: 0.7272727272727273\n",
      "        Else (feature 56 > 455.5)\n",
      "         Predict: 4.6\n",
      "       Else (feature 90 > 1264.5)\n",
      "        If (feature 1 <= 42.5)\n",
      "         Predict: 12.5\n",
      "        Else (feature 1 > 42.5)\n",
      "         Predict: 4.5\n",
      "     Else (feature 117 > 4.5)\n",
      "      If (feature 98 <= 1.5)\n",
      "       If (feature 113 <= 9352.5)\n",
      "        If (feature 12 <= 5303.5)\n",
      "         Predict: 3.0\n",
      "        Else (feature 12 > 5303.5)\n",
      "         Predict: 84.0\n",
      "       Else (feature 113 > 9352.5)\n",
      "        If (feature 9 <= 243.5)\n",
      "         Predict: 1.0\n",
      "        Else (feature 9 > 243.5)\n",
      "         Predict: 219.0\n",
      "      Else (feature 98 > 1.5)\n",
      "       If (feature 14 <= 8706.5)\n",
      "        If (feature 279 <= 25.5)\n",
      "         Predict: 1.686806411837238\n",
      "        Else (feature 279 > 25.5)\n",
      "         Predict: 3.7457627118644066\n",
      "       Else (feature 14 > 8706.5)\n",
      "        If (feature 15 <= 2854.0)\n",
      "         Predict: 2.1805555555555554\n",
      "        Else (feature 15 > 2854.0)\n",
      "         Predict: 27.714285714285715\n",
      "    Else (feature 210 > 27.5)\n",
      "     If (feature 213 <= -0.5)\n",
      "      If (feature 0 <= 71.5)\n",
      "       If (feature 7 <= 107.5)\n",
      "        If (feature 15 <= 2.5)\n",
      "         Predict: 2.5\n",
      "        Else (feature 15 > 2.5)\n",
      "         Predict: 0.6666666666666666\n",
      "       Else (feature 7 > 107.5)\n",
      "        Predict: 11.0\n",
      "      Else (feature 0 > 71.5)\n",
      "       Predict: 90.0\n",
      "     Else (feature 213 > -0.5)\n",
      "      If (feature 600 <= 2865.0)\n",
      "       If (feature 298 <= 22.5)\n",
      "        If (feature 48 <= 2.5)\n",
      "         Predict: 5.147058823529412\n",
      "        Else (feature 48 > 2.5)\n",
      "         Predict: 2.2142857142857144\n",
      "       Else (feature 298 > 22.5)\n",
      "        If (feature 125 <= 0.5)\n",
      "         Predict: 37.5\n",
      "        Else (feature 125 > 0.5)\n",
      "         Predict: 5.260162601626016\n",
      "      Else (feature 600 > 2865.0)\n",
      "       If (feature 2 <= 154.5)\n",
      "        If (feature 3 <= 46.5)\n",
      "         Predict: 22.5\n",
      "        Else (feature 3 > 46.5)\n",
      "         Predict: 5.0\n",
      "       Else (feature 2 > 154.5)\n",
      "        Predict: 49.0\n",
      "  Tree 7:\n",
      "    If (feature 260 <= 681.5)\n",
      "     If (feature 135 <= 19.5)\n",
      "      If (feature 208 <= 2.5)\n",
      "       If (feature 59 <= 6448.0)\n",
      "        If (feature 52 <= 0.5)\n",
      "         Predict: 0.48663101604278075\n",
      "        Else (feature 52 > 0.5)\n",
      "         Predict: 1.0559895833333333\n",
      "       Else (feature 59 > 6448.0)\n",
      "        If (feature 112 <= 3383.0)\n",
      "         Predict: 1.5041322314049588\n",
      "        Else (feature 112 > 3383.0)\n",
      "         Predict: 18.875\n",
      "      Else (feature 208 > 2.5)\n",
      "       If (feature 188 <= 0.5)\n",
      "        If (feature 1 <= 227.5)\n",
      "         Predict: 6.0\n",
      "        Else (feature 1 > 227.5)\n",
      "         Predict: 25.0\n",
      "       Else (feature 188 > 0.5)\n",
      "        If (feature 47 <= 2.5)\n",
      "         Predict: 5.05\n",
      "        Else (feature 47 > 2.5)\n",
      "         Predict: 2.2241379310344827\n",
      "     Else (feature 135 > 19.5)\n",
      "      If (feature 16 <= 21427.0)\n",
      "       If (feature 315 <= 2.5)\n",
      "        If (feature 240 <= 1120.0)\n",
      "         Predict: 2.302486187845304\n",
      "        Else (feature 240 > 1120.0)\n",
      "         Predict: 6.733333333333333\n",
      "       Else (feature 315 > 2.5)\n",
      "        If (feature 38 <= 2.5)\n",
      "         Predict: 15.823529411764707\n",
      "        Else (feature 38 > 2.5)\n",
      "         Predict: 5.1923076923076925\n",
      "      Else (feature 16 > 21427.0)\n",
      "       If (feature 2 <= 670.0)\n",
      "        If (feature 182 <= 210.5)\n",
      "         Predict: 1.1875\n",
      "        Else (feature 182 > 210.5)\n",
      "         Predict: 6.125\n",
      "       Else (feature 2 > 670.0)\n",
      "        Predict: 219.0\n",
      "    Else (feature 260 > 681.5)\n",
      "     If (feature 113 <= 9352.5)\n",
      "      If (feature 610 <= 235.0)\n",
      "       If (feature 199 <= 0.5)\n",
      "        If (feature 319 <= -0.5)\n",
      "         Predict: 18.0\n",
      "        Else (feature 319 > -0.5)\n",
      "         Predict: 22.0\n",
      "       Else (feature 199 > 0.5)\n",
      "        If (feature 111 <= 8599.5)\n",
      "         Predict: 3.318681318681319\n",
      "        Else (feature 111 > 8599.5)\n",
      "         Predict: 13.0\n",
      "      Else (feature 610 > 235.0)\n",
      "       If (feature 1 <= 30.5)\n",
      "        Predict: 49.0\n",
      "       Else (feature 1 > 30.5)\n",
      "        Predict: 28.0\n",
      "     Else (feature 113 > 9352.5)\n",
      "      If (feature 2 <= 95.5)\n",
      "       If (feature 0 <= 7.0)\n",
      "        Predict: 4.0\n",
      "       Else (feature 0 > 7.0)\n",
      "        Predict: 1.0\n",
      "      Else (feature 2 > 95.5)\n",
      "       Predict: 212.0\n",
      "  Tree 8:\n",
      "    If (feature 211 <= 4.5)\n",
      "     If (feature 102 <= 5.5)\n",
      "      If (feature 31 <= 10536.0)\n",
      "       If (feature 89 <= 1.5)\n",
      "        If (feature 49 <= 1.5)\n",
      "         Predict: 0.39289940828402364\n",
      "        Else (feature 49 > 1.5)\n",
      "         Predict: 0.8262032085561497\n",
      "       Else (feature 89 > 1.5)\n",
      "        If (feature 125 <= 9058.5)\n",
      "         Predict: 1.2242268041237114\n",
      "        Else (feature 125 > 9058.5)\n",
      "         Predict: 3.9473684210526314\n",
      "      Else (feature 31 > 10536.0)\n",
      "       If (feature 6 <= 7984.0)\n",
      "        If (feature 1 <= 1.5)\n",
      "         Predict: 13.0\n",
      "        Else (feature 1 > 1.5)\n",
      "         Predict: 0.8681318681318682\n",
      "       Else (feature 6 > 7984.0)\n",
      "        If (feature 24 <= 4.5)\n",
      "         Predict: 47.833333333333336\n",
      "        Else (feature 24 > 4.5)\n",
      "         Predict: 1.0714285714285714\n",
      "     Else (feature 102 > 5.5)\n",
      "      If (feature 23 <= 4810.5)\n",
      "       If (feature 24 <= 23210.0)\n",
      "        If (feature 15 <= 2854.0)\n",
      "         Predict: 1.4920245398773007\n",
      "        Else (feature 15 > 2854.0)\n",
      "         Predict: 3.1458333333333335\n",
      "       Else (feature 24 > 23210.0)\n",
      "        If (feature 0 <= 1093.0)\n",
      "         Predict: 3.12\n",
      "        Else (feature 0 > 1093.0)\n",
      "         Predict: 84.0\n",
      "      Else (feature 23 > 4810.5)\n",
      "       If (feature 101 <= 0.5)\n",
      "        If (feature 0 <= 1575.5)\n",
      "         Predict: 67.0\n",
      "        Else (feature 0 > 1575.5)\n",
      "         Predict: 0.0\n",
      "       Else (feature 101 > 0.5)\n",
      "        If (feature 172 <= 284.0)\n",
      "         Predict: 3.239130434782609\n",
      "        Else (feature 172 > 284.0)\n",
      "         Predict: 19.833333333333332\n",
      "    Else (feature 211 > 4.5)\n",
      "     If (feature 213 <= -0.5)\n",
      "      If (feature 3 <= 2.5)\n",
      "       Predict: 90.0\n",
      "      Else (feature 3 > 2.5)\n",
      "       If (feature 3 <= 8.5)\n",
      "        Predict: 2.0\n",
      "       Else (feature 3 > 8.5)\n",
      "        Predict: 0.0\n",
      "     Else (feature 213 > -0.5)\n",
      "      If (feature 293 <= 450.5)\n",
      "       If (feature 572 <= 23.5)\n",
      "        If (feature 42 <= 0.5)\n",
      "         Predict: 6.8\n",
      "        Else (feature 42 > 0.5)\n",
      "         Predict: 2.7630208333333335\n",
      "       Else (feature 572 > 23.5)\n",
      "        If (feature 333 <= 18.5)\n",
      "         Predict: 14.666666666666666\n",
      "        Else (feature 333 > 18.5)\n",
      "         Predict: 23.0\n",
      "      Else (feature 293 > 450.5)\n",
      "       If (feature 132 <= 0.5)\n",
      "        If (feature 3 <= 7.5)\n",
      "         Predict: 22.0\n",
      "        Else (feature 3 > 7.5)\n",
      "         Predict: 36.8\n",
      "       Else (feature 132 > 0.5)\n",
      "        If (feature 189 <= 4.5)\n",
      "         Predict: 15.0\n",
      "        Else (feature 189 > 4.5)\n",
      "         Predict: 5.048387096774194\n",
      "  Tree 9:\n",
      "    If (feature 210 <= 1.5)\n",
      "     If (feature 115 <= 3.5)\n",
      "      If (feature 89 <= 1.5)\n",
      "       If (feature 35 <= 4042.5)\n",
      "        If (feature 78 <= 5095.0)\n",
      "         Predict: 0.5247457627118645\n",
      "        Else (feature 78 > 5095.0)\n",
      "         Predict: 1.6363636363636365\n",
      "       Else (feature 35 > 4042.5)\n",
      "        If (feature 0 <= 8051.5)\n",
      "         Predict: 0.8558558558558559\n",
      "        Else (feature 0 > 8051.5)\n",
      "         Predict: 4.285714285714286\n",
      "      Else (feature 89 > 1.5)\n",
      "       If (feature 2 <= 1999.0)\n",
      "        If (feature 90 <= -0.5)\n",
      "         Predict: 2.888888888888889\n",
      "        Else (feature 90 > -0.5)\n",
      "         Predict: 1.0357941834451903\n",
      "       Else (feature 2 > 1999.0)\n",
      "        If (feature 96 <= 10871.0)\n",
      "         Predict: 2.452830188679245\n",
      "        Else (feature 96 > 10871.0)\n",
      "         Predict: 13.5\n",
      "     Else (feature 115 > 3.5)\n",
      "      If (feature 144 <= 4784.5)\n",
      "       If (feature 14 <= 8706.5)\n",
      "        If (feature 104 <= 0.5)\n",
      "         Predict: 4.870967741935484\n",
      "        Else (feature 104 > 0.5)\n",
      "         Predict: 1.7253694581280787\n",
      "       Else (feature 14 > 8706.5)\n",
      "        If (feature 100 <= 2.5)\n",
      "         Predict: 43.666666666666664\n",
      "        Else (feature 100 > 2.5)\n",
      "         Predict: 1.6981132075471699\n",
      "      Else (feature 144 > 4784.5)\n",
      "       If (feature 12 <= 2213.5)\n",
      "        If (feature 63 <= 0.5)\n",
      "         Predict: 25.0\n",
      "        Else (feature 63 > 0.5)\n",
      "         Predict: 2.138888888888889\n",
      "       Else (feature 12 > 2213.5)\n",
      "        Predict: 219.0\n",
      "    Else (feature 210 > 1.5)\n",
      "     If (feature 143 <= 0.5)\n",
      "      If (feature 56 <= 17256.0)\n",
      "       If (feature 623 <= 2.5)\n",
      "        If (feature 174 <= 2.5)\n",
      "         Predict: 12.0\n",
      "        Else (feature 174 > 2.5)\n",
      "         Predict: 1.391304347826087\n",
      "       Else (feature 623 > 2.5)\n",
      "        If (feature 494 <= 93.0)\n",
      "         Predict: 13.0\n",
      "        Else (feature 494 > 93.0)\n",
      "         Predict: 20.0\n",
      "      Else (feature 56 > 17256.0)\n",
      "       If (feature 1 <= 30.5)\n",
      "        Predict: 212.0\n",
      "       Else (feature 1 > 30.5)\n",
      "        Predict: 90.0\n",
      "     Else (feature 143 > 0.5)\n",
      "      If (feature 641 <= 165.0)\n",
      "       If (feature 338 <= 15.0)\n",
      "        If (feature 421 <= 111.0)\n",
      "         Predict: 2.947619047619048\n",
      "        Else (feature 421 > 111.0)\n",
      "         Predict: 14.0\n",
      "       Else (feature 338 > 15.0)\n",
      "        If (feature 89 <= 14600.5)\n",
      "         Predict: 5.6\n",
      "        Else (feature 89 > 14600.5)\n",
      "         Predict: 16.055555555555557\n",
      "      Else (feature 641 > 165.0)\n",
      "       If (feature 369 <= 20.0)\n",
      "        Predict: 28.0\n",
      "       Else (feature 369 > 20.0)\n",
      "        Predict: 49.0\n",
      "\n"
     ]
    }
   ],
   "source": [
    "rf_model = RandomForest.trainRegressor(doc_vectors_train, categoricalFeaturesInfo={},\n",
    "                                    numTrees=10,impurity='variance', maxDepth=5)\n",
    "\n",
    "predictions = rf_model.predict(doc_vectors_val.map(lambda x: x.features))\n",
    "labels_and_predictions = doc_vectors_val.map(lambda lp: lp.label).zip(predictions)\n",
    "val_mse = labels_and_predictions.map(lambda lp: (lp[0] - lp[1]) * (lp[0] - lp[1])).sum() /\\\n",
    "    float(doc_vectors_val.count())\n",
    "print('Validation Root Mean Squared Error (Random Forest) = ' + str(val_mse))\n",
    "print('Learned regression RF model:')\n",
    "print(rf_model.toDebugString())"
   ]
  },
  {
   "cell_type": "markdown",
   "metadata": {},
   "source": [
    "#### We then use a Gradient Boosting Trees (GBT) ensemble to predict the number of user votes. The idea of gradient boosted trees is to iteratively train a decision tree of fixed size to residuals from the previous iteration. "
   ]
  },
  {
   "cell_type": "code",
   "execution_count": 76,
   "metadata": {},
   "outputs": [
    {
     "name": "stdout",
     "output_type": "stream",
     "text": [
      "Validation Root Mean Squared Error (Gradient Boosting Trees) = 77.95519902150733\n",
      "Learned regression GBT model:\n",
      "TreeEnsembleModel regressor with 10 trees\n",
      "\n",
      "  Tree 0:\n",
      "    If (feature 141 <= 0.5)\n",
      "     If (feature 112 <= 830.0)\n",
      "      If (feature 57 <= 0.5)\n",
      "       Predict: 0.5313075506445673\n",
      "      Else (feature 57 > 0.5)\n",
      "       Predict: 1.0746500777604977\n",
      "     Else (feature 112 > 830.0)\n",
      "      If (feature 75 <= 0.5)\n",
      "       Predict: 36.0\n",
      "      Else (feature 75 > 0.5)\n",
      "       Predict: 1.9833333333333334\n",
      "    Else (feature 141 > 0.5)\n",
      "     If (feature 607 <= 6875.5)\n",
      "      If (feature 16 <= 21427.0)\n",
      "       Predict: 3.1588235294117646\n",
      "      Else (feature 16 > 21427.0)\n",
      "       Predict: 10.575\n",
      "     Else (feature 607 > 6875.5)\n",
      "      If (feature 1 <= 30.5)\n",
      "       Predict: 49.0\n",
      "      Else (feature 1 > 30.5)\n",
      "       Predict: 22.5\n",
      "  Tree 1:\n",
      "    If (feature 276 <= 30.5)\n",
      "     If (feature 156 <= 5.5)\n",
      "      If (feature 144 <= 4784.5)\n",
      "       Predict: -0.1285660133648345\n",
      "      Else (feature 144 > 4784.5)\n",
      "       Predict: 15.768546100023316\n",
      "     Else (feature 156 > 5.5)\n",
      "      If (feature 16 <= 21427.0)\n",
      "       Predict: -1.3718815444601467\n",
      "      Else (feature 16 > 21427.0)\n",
      "       Predict: -16.97608695652174\n",
      "    Else (feature 276 > 30.5)\n",
      "     If (feature 278 <= -0.5)\n",
      "      If (feature 16 <= 0.5)\n",
      "       Predict: 417.6823529411765\n",
      "      Else (feature 16 > 0.5)\n",
      "       Predict: 10.349019607843141\n",
      "     Else (feature 278 > -0.5)\n",
      "      If (feature 618 <= 398.0)\n",
      "       Predict: 2.8478836595592427\n",
      "      Else (feature 618 > 398.0)\n",
      "       Predict: 45.68235294117642\n",
      "  Tree 2:\n",
      "    If (feature 113 <= 9352.5)\n",
      "     If (feature 326 <= 125.5)\n",
      "      If (feature 143 <= 0.5)\n",
      "       Predict: 0.04306177050558693\n",
      "      Else (feature 143 > 0.5)\n",
      "       Predict: -1.4653843293441404\n",
      "     Else (feature 326 > 125.5)\n",
      "      If (feature 12 <= 23158.5)\n",
      "       Predict: 5.171554729064933\n",
      "      Else (feature 12 > 23158.5)\n",
      "       Predict: 78.52864372117176\n",
      "    Else (feature 113 > 9352.5)\n",
      "     If (feature 12 <= 23158.5)\n",
      "      If (feature 2 <= 15571.0)\n",
      "       Predict: -0.16774011908525585\n",
      "      Else (feature 2 > 15571.0)\n",
      "       Predict: 82.56196195465559\n",
      "     Else (feature 12 > 23158.5)\n",
      "      If (feature 0 <= 209.5)\n",
      "       Predict: 413.69629077999537\n",
      "      Else (feature 0 > 209.5)\n",
      "       Predict: -4.04327074993148\n",
      "  Tree 3:\n",
      "    If (feature 276 <= 30.5)\n",
      "     If (feature 141 <= 1923.5)\n",
      "      If (feature 141 <= 2.5)\n",
      "       Predict: 0.018591446817300933\n",
      "      Else (feature 141 > 2.5)\n",
      "       Predict: -1.8623218146024616\n",
      "     Else (feature 141 > 1923.5)\n",
      "      If (feature 16 <= 21427.0)\n",
      "       Predict: 0.4083955937115585\n",
      "      Else (feature 16 > 21427.0)\n",
      "       Predict: 71.65181905205272\n",
      "    Else (feature 276 > 30.5)\n",
      "     If (feature 278 <= -0.5)\n",
      "      If (feature 2 <= 3186.5)\n",
      "       Predict: 8.529037745134707\n",
      "      Else (feature 2 > 3186.5)\n",
      "       Predict: 317.6334899620101\n",
      "     Else (feature 278 > -0.5)\n",
      "      If (feature 326 <= 125.5)\n",
      "       Predict: -0.2809990948975591\n",
      "      Else (feature 326 > 125.5)\n",
      "       Predict: 6.972360637188542\n",
      "  Tree 4:\n",
      "    If (feature 458 <= 39.0)\n",
      "     If (feature 113 <= 9352.5)\n",
      "      If (feature 558 <= 383.5)\n",
      "       Predict: -0.24765784513849473\n",
      "      Else (feature 558 > 383.5)\n",
      "       Predict: 16.683960900098555\n",
      "     Else (feature 113 > 9352.5)\n",
      "      If (feature 12 <= 23158.5)\n",
      "       Predict: 1.5013282885059671\n",
      "      Else (feature 12 > 23158.5)\n",
      "       Predict: 156.69416696213852\n",
      "    Else (feature 458 > 39.0)\n",
      "     If (feature 208 <= 2226.5)\n",
      "      If (feature 57 <= 3939.0)\n",
      "       Predict: -0.6159033995591018\n",
      "      Else (feature 57 > 3939.0)\n",
      "       Predict: 18.850986676180614\n",
      "     Else (feature 208 > 2226.5)\n",
      "      If (feature 478 <= 6.5)\n",
      "       Predict: 43.04226967193307\n",
      "      Else (feature 478 > 6.5)\n",
      "       Predict: 10.629732761944453\n",
      "  Tree 5:\n",
      "    If (feature 265 <= 626.5)\n",
      "     If (feature 408 <= 82.0)\n",
      "      If (feature 84 <= 12079.0)\n",
      "       Predict: -0.30649472793551324\n",
      "      Else (feature 84 > 12079.0)\n",
      "       Predict: 3.193098713758494\n",
      "     Else (feature 408 > 82.0)\n",
      "      If (feature 373 <= 6.5)\n",
      "       Predict: 23.20614462010317\n",
      "      Else (feature 373 > 6.5)\n",
      "       Predict: 0.36116280727953787\n",
      "    Else (feature 265 > 626.5)\n",
      "     If (feature 56 <= 17256.0)\n",
      "      If (feature 50 <= 0.5)\n",
      "       Predict: 27.391487084617083\n",
      "      Else (feature 50 > 0.5)\n",
      "       Predict: 1.0705505873860925\n",
      "     Else (feature 56 > 17256.0)\n",
      "      If (feature 5 <= 17.5)\n",
      "       Predict: 8.765199169156014\n",
      "      Else (feature 5 > 17.5)\n",
      "       Predict: 253.80652631190682\n",
      "  Tree 6:\n",
      "    If (feature 314 <= 123.5)\n",
      "     If (feature 196 <= 2665.0)\n",
      "      If (feature 137 <= 1.5)\n",
      "       Predict: 0.19119545442982447\n",
      "      Else (feature 137 > 1.5)\n",
      "       Predict: -1.229372005839454\n",
      "     Else (feature 196 > 2665.0)\n",
      "      If (feature 182 <= 0.5)\n",
      "       Predict: 105.88916102149904\n",
      "      Else (feature 182 > 0.5)\n",
      "       Predict: 1.1951300272363279\n",
      "    Else (feature 314 > 123.5)\n",
      "     If (feature 12 <= 23158.5)\n",
      "      If (feature 286 <= 1.5)\n",
      "       Predict: 17.741794673536354\n",
      "      Else (feature 286 > 1.5)\n",
      "       Predict: 1.779994851094673\n",
      "     Else (feature 12 > 23158.5)\n",
      "      Predict: 63.30620985447274\n",
      "  Tree 7:\n",
      "    If (feature 458 <= 39.0)\n",
      "     If (feature 113 <= 9352.5)\n",
      "      If (feature 16 <= 21427.0)\n",
      "       Predict: -0.041443166931111476\n",
      "      Else (feature 16 > 21427.0)\n",
      "       Predict: -3.6039168562516837\n",
      "     Else (feature 113 > 9352.5)\n",
      "      If (feature 34 <= 16594.5)\n",
      "       Predict: 0.4191868156411599\n",
      "      Else (feature 34 > 16594.5)\n",
      "       Predict: 139.13890966274914\n",
      "    Else (feature 458 > 39.0)\n",
      "     If (feature 208 <= 434.5)\n",
      "      If (feature 363 <= 4.5)\n",
      "       Predict: 11.692121876216586\n",
      "      Else (feature 363 > 4.5)\n",
      "       Predict: -2.3835498585687827\n",
      "     Else (feature 208 > 434.5)\n",
      "      If (feature 491 <= 10.0)\n",
      "       Predict: 27.600591085331715\n",
      "      Else (feature 491 > 10.0)\n",
      "       Predict: 5.065961968935227\n",
      "  Tree 8:\n",
      "    If (feature 265 <= 626.5)\n",
      "     If (feature 93 <= 10331.5)\n",
      "      If (feature 16 <= 21427.0)\n",
      "       Predict: -0.0810693632390718\n",
      "      Else (feature 16 > 21427.0)\n",
      "       Predict: -3.2646914344617017\n",
      "     Else (feature 93 > 10331.5)\n",
      "      If (feature 34 <= 16594.5)\n",
      "       Predict: 0.23355565974390813\n",
      "      Else (feature 34 > 16594.5)\n",
      "       Predict: 83.27289294091534\n",
      "    Else (feature 265 > 626.5)\n",
      "     If (feature 58 <= 14102.5)\n",
      "      If (feature 89 <= 14600.5)\n",
      "       Predict: -0.17114809364573105\n",
      "      Else (feature 89 > 14600.5)\n",
      "       Predict: 17.43640642405423\n",
      "     Else (feature 58 > 14102.5)\n",
      "      If (feature 2 <= 485.5)\n",
      "       Predict: 12.320102527726787\n",
      "      Else (feature 2 > 485.5)\n",
      "       Predict: 181.7835514820974\n",
      "  Tree 9:\n",
      "    If (feature 309 <= 22.5)\n",
      "     If (feature 143 <= 0.5)\n",
      "      If (feature 185 <= 3126.0)\n",
      "       Predict: 0.1972910811559252\n",
      "      Else (feature 185 > 3126.0)\n",
      "       Predict: 145.78226320547157\n",
      "     Else (feature 143 > 0.5)\n",
      "      If (feature 107 <= 0.5)\n",
      "       Predict: 6.92625082364235\n",
      "      Else (feature 107 > 0.5)\n",
      "       Predict: -1.3772576505213434\n",
      "    Else (feature 309 > 22.5)\n",
      "     If (feature 288 <= 3.5)\n",
      "      If (feature 150 <= 0.5)\n",
      "       Predict: 50.70747612235073\n",
      "      Else (feature 150 > 0.5)\n",
      "       Predict: 6.8687020471308315\n",
      "     Else (feature 288 > 3.5)\n",
      "      If (feature 44 <= 17149.0)\n",
      "       Predict: -0.035228304497083224\n",
      "      Else (feature 44 > 17149.0)\n",
      "       Predict: 16.599322123128907\n",
      "\n"
     ]
    }
   ],
   "source": [
    "gb_model = GradientBoostedTrees.trainRegressor(doc_vectors_train,categoricalFeaturesInfo={}, numIterations=10)\n",
    "\n",
    "predictions = gb_model.predict(doc_vectors_val.map(lambda x: x.features))\n",
    "labels_and_predictions = doc_vectors_val.map(lambda lp: lp.label).zip(predictions)\n",
    "val_mse = labels_and_predictions.map(lambda lp: (lp[0] - lp[1]) * (lp[0] - lp[1])).sum() /\\\n",
    "    float(doc_vectors_val.count())\n",
    "print('Validation Root Mean Squared Error (Gradient Boosting Trees) = ' + str(val_mse))\n",
    "print('Learned regression GBT model:')\n",
    "print(gb_model.toDebugString())"
   ]
  },
  {
   "cell_type": "markdown",
   "metadata": {},
   "source": [
    "#### As we can see, gradient boosting decision tree yields the best result in this case.(lowest RMSE) We can use models like this to predict how useful new reviews. This is useful as websites can feature more useful reviews first. "
   ]
  },
  {
   "cell_type": "markdown",
   "metadata": {},
   "source": [
    "## Collaborative Filtering "
   ]
  },
  {
   "cell_type": "markdown",
   "metadata": {},
   "source": [
    "We use a collaborative filtering model which can be used to recommend businesses to users based on the ratings they have already given to some businesses they have visited. We start by determining the unique user and business IDs that appear in the reviews data. This will help us build dictionaries for mapping the user/business IDs to unique integer indices."
   ]
  },
  {
   "cell_type": "code",
   "execution_count": 8,
   "metadata": {},
   "outputs": [],
   "source": [
    "review_user_ids = reviews.map(lambda x : x['user_id']).collect()\n",
    "review_business_ids = reviews.map(lambda x : x['business_id']).collect()\n",
    "\n",
    "user_to_index_dict = { review_user_ids[i] : i for i in range(len(review_user_ids))}\n",
    "business_to_index_dict = { review_business_ids[i] : i for i in range(len(review_business_ids))}"
   ]
  },
  {
   "cell_type": "markdown",
   "metadata": {},
   "source": [
    "We then created a ratings object that transforms each review into a rating."
   ]
  },
  {
   "cell_type": "code",
   "execution_count": 11,
   "metadata": {},
   "outputs": [],
   "source": [
    "ratings = reviews.map(lambda x: Rating(user_to_index_dict[x['user_id']],\\\n",
    "                                               business_to_index_dict[x['business_id']]\\\n",
    "                                               ,float(x['rating']) ))\n",
    "ratings_train, ratings_val = ratings.randomSplit([0.8,0.2], seed=244)"
   ]
  },
  {
   "cell_type": "markdown",
   "metadata": {},
   "source": [
    "For a succession of ranks, we will now build an collaborative filtering algorithm using Alternating Least Squares model, obtaining training and validation RMSE for each rank."
   ]
  },
  {
   "cell_type": "code",
   "execution_count": 13,
   "metadata": {},
   "outputs": [
    {
     "name": "stdout",
     "output_type": "stream",
     "text": [
      "Root Mean Squared Error (rank=1) = Train 2.2303403608067565, Validation 7.04878694620772\n",
      "Root Mean Squared Error (rank=2) = Train 1.533144555837993, Validation 6.239180193329855\n",
      "Root Mean Squared Error (rank=3) = Train 0.7844573191101099, Validation 6.37091414971995\n",
      "Root Mean Squared Error (rank=4) = Train 0.2767073821956983, Validation 3.088752464421239\n",
      "Root Mean Squared Error (rank=5) = Train 0.20211444473213522, Validation 3.957891788882398\n",
      "Root Mean Squared Error (rank=6) = Train 0.10384699429927943, Validation 2.908178527080322\n",
      "Root Mean Squared Error (rank=7) = Train 0.0684117498859423, Validation 3.84174247060158\n",
      "Root Mean Squared Error (rank=8) = Train 0.048531503337014996, Validation 4.471769560371197\n",
      "Root Mean Squared Error (rank=9) = Train 0.03920853406675996, Validation 3.9159862099832474\n",
      "Root Mean Squared Error (rank=10) = Train 0.02761695914017061, Validation 4.0740106338454085\n",
      "Root Mean Squared Error (rank=11) = Train 0.01938075153961597, Validation 3.900621171534686\n",
      "Root Mean Squared Error (rank=12) = Train 0.020171641161321096, Validation 4.39978499358449\n",
      "Root Mean Squared Error (rank=13) = Train 0.019585607998280855, Validation 4.124849488410435\n",
      "Root Mean Squared Error (rank=14) = Train 0.011687100433192427, Validation 3.4107217306303435\n",
      "Root Mean Squared Error (rank=15) = Train 0.011406293031280337, Validation 3.3686556873571676\n",
      "Root Mean Squared Error (rank=16) = Train 0.0087874011278594, Validation 3.4774611775611417\n",
      "Root Mean Squared Error (rank=17) = Train 0.008444989719202973, Validation 3.202398875845903\n",
      "Root Mean Squared Error (rank=18) = Train 0.007816055572291295, Validation 3.67119722744326\n",
      "Root Mean Squared Error (rank=19) = Train 0.007544661112359107, Validation 2.9107611227184487\n",
      "Root Mean Squared Error (rank=20) = Train 0.00831805770922872, Validation 3.114974761594723\n",
      "Root Mean Squared Error (rank=40) = Train 0.0021025079196249977, Validation 1.944456862990403\n",
      "Root Mean Squared Error (rank=60) = Train 0.0017345034069571545, Validation 1.4469531031636358\n",
      "Root Mean Squared Error (rank=80) = Train 0.002308798299857696, Validation 1.3539465946790281\n",
      "Root Mean Squared Error (rank=100) = Train 0.0019780161604117503, Validation 1.2275456518911496\n",
      "Root Mean Squared Error (rank=120) = Train 0.002071400900945073, Validation 1.2265881243765624\n",
      "Root Mean Squared Error (rank=140) = Train 0.0018477610020837996, Validation 1.2424759595920511\n",
      "Root Mean Squared Error (rank=160) = Train 0.002021908196402618, Validation 1.1303615147136248\n",
      "Root Mean Squared Error (rank=180) = Train 0.0019098107488250496, Validation 1.1530372673039178\n",
      "Root Mean Squared Error (rank=200) = Train 0.0020712840949671033, Validation 1.1037929966654643\n"
     ]
    }
   ],
   "source": [
    "numIterations=10\n",
    "ranks = list(range(1,20)) + list(range(20, 201, 20))\n",
    "train_rmses = []\n",
    "val_rmses = []\n",
    "\n",
    "for rank in ranks:\n",
    "    cf_model = ALS.train(ratings_train, rank, numIterations)\n",
    "    \n",
    "    train_data = ratings_train.map(lambda p: (p[0], p[1]))\n",
    "    predictions = cf_model.predictAll(train_data).map(lambda r: ((r[0], r[1]), r[2]))\n",
    "    rates_and_preds = ratings_train.map(lambda r: ((r[0], r[1]), r[2])).join(predictions)\n",
    "    train_rmse = np.sqrt(rates_and_preds.map(lambda r: (r[1][0] - r[1][1])**2).mean())\n",
    "    train_rmses.append(train_rmse)\n",
    "    \n",
    "    val_data = ratings_val.map(lambda p: (p[0], p[1]))\n",
    "    predictions = cf_model.predictAll(val_data).map(lambda r: ((r[0], r[1]), r[2]))\n",
    "    rates_and_preds = ratings_val.map(lambda r: ((r[0], r[1]), r[2])).join(predictions)\n",
    "    val_rmse = np.sqrt(rates_and_preds.map(lambda r: (r[1][0] - r[1][1])**2).mean())\n",
    "    val_rmses.append(val_rmse)\n",
    "    \n",
    "    print(\"Root Mean Squared Error (rank={}) = Train {}, Validation {}\".format(rank, train_rmse, val_rmse))"
   ]
  },
  {
   "cell_type": "markdown",
   "metadata": {},
   "source": [
    "Ploting the train and validation RMSE versus the rank, we would select rank at around 55 which gives a smaller MSE and does not overcomplicate the model. "
   ]
  },
  {
   "cell_type": "code",
   "execution_count": 14,
   "metadata": {},
   "outputs": [
    {
     "data": {
      "image/png": "[encoded data removed]",
      "text/plain": [
       "<matplotlib.figure.Figure at 0x2ad82f0ae780>"
      ]
     },
     "metadata": {},
     "output_type": "display_data"
    }
   ],
   "source": [
    "fig, ax = plt.subplots()\n",
    "ax.plot(ranks, train_rmses, label='Train RMSE')\n",
    "ax.plot(ranks, val_rmses, label='Validation RMSE')\n",
    "\n",
    "plt.xlabel('Rank')\n",
    "plt.ylabel('Root Mean Squared Error')\n",
    "plt.legend()\n",
    "plt.show()"
   ]
  },
  {
   "cell_type": "markdown",
   "metadata": {},
   "source": [
    "## Topic Modeling \n",
    "\n",
    "Large volume of reviews can help us to discover people who like similar topics. If we can find similar people,then we might be able to do cross recommendation: push restaurants of people who are simiar to you. "
   ]
  },
  {
   "cell_type": "markdown",
   "metadata": {},
   "source": [
    "#### Method1: In this section, we will explore how to model topics using LDA (Latent Dirichlet allocation). https://en.wikipedia.org/wiki/Latent_Dirichlet_allocation "
   ]
  },
  {
   "cell_type": "code",
   "execution_count": 77,
   "metadata": {
    "collapsed": true
   },
   "outputs": [],
   "source": [
    "from pyspark.mllib.linalg import Vectors, DenseVector, SparseVector\n",
    "from pyspark.mllib.clustering import LDA, LDAModel"
   ]
  },
  {
   "cell_type": "code",
   "execution_count": 78,
   "metadata": {},
   "outputs": [
    {
     "name": "stdout",
     "output_type": "stream",
     "text": [
      "ok.\n",
      "('the', 32676)\n",
      "Number of unique words:  35399\n"
     ]
    }
   ],
   "source": [
    "# remove most frequent words/stop words \n",
    "num_stop_words = 1000\n",
    "\n",
    "all_reviews = reviews_rdd.map(lambda x : (x['text']))\n",
    "word_counts = list(all_reviews.flatMap(lambda x: x.lower().split()).map(lambda x: (x,1)).countByKey().items())\n",
    "word_counts = sorted(word_counts, key = lambda x : -x[1]) \n",
    "\n",
    "# remove stopwords\n",
    "unique_words = [x[0] for x in word_counts[num_stop_words:]]\n",
    "print(unique_words[0])\n",
    "print(word_counts[0])\n",
    "num_unique_words = len(unique_words)\n",
    "print('Number of unique words: ', num_unique_words)"
   ]
  },
  {
   "cell_type": "code",
   "execution_count": 79,
   "metadata": {
    "collapsed": true
   },
   "outputs": [],
   "source": [
    "word_to_index_dict = { unique_words[i] : i for i in range(len(unique_words))}\n",
    "index_to_word_dict = { i : unique_words[i] for i in range(len(unique_words))}"
   ]
  },
  {
   "cell_type": "code",
   "execution_count": 80,
   "metadata": {},
   "outputs": [
    {
     "name": "stdout",
     "output_type": "stream",
     "text": [
      "[[457, 522, 1317, 13409, 1110, 523, 1608, 13410, 9120, 837, 5012, 3908, 560, 5860, 4366]]\n",
      "4600\n",
      "[[0, SparseVector(35399, {457: 1.0, 522: 1.0, 523: 1.0, 560: 1.0, 837: 1.0, 1110: 1.0, 1317: 1.0, 1608: 1.0, 3908: 1.0, 4366: 1.0, 5012: 1.0, 5860: 1.0, 9120: 1.0, 13409: 1.0, 13410: 1.0})], [1, SparseVector(35399, {2: 1.0, 90: 1.0, 91: 2.0, 108: 1.0, 109: 1.0, 168: 1.0, 306: 1.0, 307: 1.0, 308: 1.0, 332: 1.0, 356: 1.0, 357: 1.0, 417: 1.0, 418: 1.0, 490: 1.0, 522: 2.0, 524: 1.0, 561: 1.0, 580: 2.0, 581: 1.0, 663: 1.0, 664: 1.0, 837: 1.0, 838: 1.0, 891: 1.0, 986: 1.0, 987: 1.0, 1164: 1.0, 1165: 1.0, 1247: 1.0, 1318: 1.0, 1416: 1.0, 1417: 1.0, 1609: 1.0, 1828: 1.0, 1829: 1.0, 1963: 1.0, 1964: 1.0, 1965: 2.0, 1966: 1.0, 1967: 1.0, 1968: 1.0, 2137: 1.0, 2285: 2.0, 2460: 1.0, 2461: 1.0, 2462: 1.0, 2463: 3.0, 2464: 1.0, 2663: 1.0, 2888: 2.0, 2889: 1.0, 2890: 1.0, 3167: 1.0, 3530: 1.0, 3531: 1.0, 3532: 1.0, 3909: 1.0, 4367: 1.0, 4368: 1.0, 5013: 1.0, 5861: 1.0, 5862: 1.0, 5863: 1.0, 5864: 1.0, 7133: 1.0, 7134: 2.0, 7135: 1.0, 9121: 1.0, 9122: 1.0, 9123: 2.0, 13411: 1.0, 13412: 1.0, 13413: 1.0, 13414: 1.0, 13415: 1.0, 13416: 1.0})]]\n"
     ]
    }
   ],
   "source": [
    "import collections\n",
    "\n",
    "doc_vectors = all_reviews.map(lambda x: x.lower().split()).map(lambda x: [word_to_index_dict[w] for w in x if w in word_to_index_dict])\n",
    "print(doc_vectors.take(1))\n",
    "\n",
    "doc_vectors = doc_vectors.map(lambda x: SparseVector(num_unique_words,sorted(set(x)),[x.count(i) for i in sorted(set(x))]))\n",
    "doc_vectors = doc_vectors.zipWithIndex().map(lambda x: [x[1], x[0]])\n",
    "print(doc_vectors.count())\n",
    "print(doc_vectors.take(2))"
   ]
  },
  {
   "cell_type": "code",
   "execution_count": 82,
   "metadata": {
    "collapsed": true
   },
   "outputs": [],
   "source": [
    "lda_model = LDA.train(doc_vectors, k=10, seed=42)"
   ]
  },
  {
   "cell_type": "code",
   "execution_count": 83,
   "metadata": {},
   "outputs": [
    {
     "name": "stdout",
     "output_type": "stream",
     "text": [
      "Topic\n",
      "0\n",
      "['garden', 'gardens', 'cafe', 'plants', 'chefs', 'cuban', 'art', 'flower', 'rooms', 'holiday']\n",
      "Topic\n",
      "1\n",
      "['cone', 'whatever', 'else.', 'mouth', 'paired', 'crunch', 'girlfriend', 'above', 'beer.', 'chinese']\n",
      "Topic\n",
      "2\n",
      "['taiwanese', 'sides', 'primanti', 'tartare', 'cole', 'vegetables', 'mushroom', 'chefs', 'entrees,', 'sprouts']\n",
      "Topic\n",
      "3\n",
      "['incline.', 'duquesne', 'machine', 'working', '8', 'cost', 'angel', 'hate', 'monongahela', 'view,']\n",
      "Topic\n",
      "4\n",
      "['croissant', 'pig', 'gotten', 'bone', 'mins', 'pepperoni', 'now,', 'orders', 'manager', 'looks']\n",
      "Topic\n",
      "5\n",
      "['rib', 'eye', 'ribeye', 'salsa', 'meats', 'de', 'consider', 'mexican', 'yes', 'tip']\n",
      "Topic\n",
      "6\n",
      "['risotto', 'brussels', 'rye', 'brussel', 'oatmeal', 'rustic', 'imagine', 'baked', 'hanger', '(the']\n",
      "Topic\n",
      "7\n",
      "['drink.', 'brown', 'table,', 'did.', 'was.', 'man', 'fritters', 'fancy', 'charcuterie', 'pistachio']\n",
      "Topic\n",
      "8\n",
      "['muddy', 'waters', 'dozen', 'yum!', 'west', 'cajun', 'bottle', '//', 'oysters,', 'bottles']\n",
      "Topic\n",
      "9\n",
      "['|', 'mustard', 'aioli', 'mom', 'baguette', 'process', 'dish,', 'included', 'farm', 'top,']\n"
     ]
    }
   ],
   "source": [
    "topics = lda_model.topicsMatrix()\n",
    "\n",
    "for i in range(10):\n",
    "    wordsindex = lda_model.describeTopics(10)[i][0]\n",
    "    print(\"Topic\")\n",
    "    print(i)\n",
    "    print([index_to_word_dict[x] for x in wordsindex])\n",
    "    "
   ]
  },
  {
   "cell_type": "markdown",
   "metadata": {},
   "source": [
    "###### For example, in topic5, we see a list of words like rib, eye, salsa,mexican... Matching people in the same area with these keywords and recommend restaurants/businesses to them would be very useful"
   ]
  },
  {
   "cell_type": "markdown",
   "metadata": {
    "collapsed": true
   },
   "source": [
    "#### Method2 : In this section, we will explore how to model topics using Word2Vec: https://en.wikipedia.org/wiki/Word2vec. Word2Vec is a popular model for embedding words in Euclidean space so they can be analyzed similar to real-valued vectors"
   ]
  },
  {
   "cell_type": "code",
   "execution_count": 8,
   "metadata": {
    "collapsed": true
   },
   "outputs": [],
   "source": [
    "from pyspark.mllib.feature import Word2Vec\n",
    "import re\n",
    "pattern = re.compile('[\\W_]+')"
   ]
  },
  {
   "cell_type": "code",
   "execution_count": 9,
   "metadata": {},
   "outputs": [
    {
     "name": "stdout",
     "output_type": "stream",
     "text": [
      "[['our', 'absolute', 'favorite', 'place', 'to', 'eat', 'in', 'pittsburgh', 'always', 'worth', 'the', 'long', 'wait', 'in', 'line', 'some', 'of', 'the', 'best', 'chimichurri', 'youll', 'ever', 'have', 'do', 'yourself', 'a', 'favor', 'and', 'get', 'some', 'extra', 'toast', 'just', 'to', 'dip', 'in', 'the', 'sauces', 'i', 'recommend', 'the', 'asado', 'platter', 'good', 'to', 'split', 'between', '4', 'people', 'when', 'you', 'order', 'lots', 'of', 'sides', 'the', 'empanadas', 'are', 'also', 'great', 'but', 'they', 'do', 'sometimes', 'run', 'out', 'before', 'the', 'end', 'of', 'the', 'night', 'so', 'try', 'to', 'get', 'there', 'before', 'then', '1010', 'highly', 'recommend', 'great', 'food', 'at', 'a', 'reasonable', 'price', 'considering', 'the', 'quality', '', 'quantity', 'be', 'sure', 'to', 'bring', 'your', 'own', 'wine', 'or', 'beer'], ['everyone', 'said', 'this', 'was', 'the', 'place', 'to', 'try', 'come', 'early', 'especially', 'for', 'lunch', 'and', 'dinner', 'otherwise', 'be', 'prepared', 'to', 'wait', 'in', 'line', 'for', '4560', 'minutes', 'and', 'yes', 'that', 'line', 'goes', 'outside', 'and', 'around', 'the', 'side', 'of', 'the', 'building', 'rain', 'or', 'shine', 'or', 'snow', 'and', 'bitter', 'cold', 'they', 'take', 'debitcredit', 'cards', 'food', 'we', 'had', 'the', 'lamb', 'a', 'ny', 'strip', 'steak', 'and', 'a', 'ribeye', 'all', 'the', 'meats', 'were', 'prepared', 'to', 'the', 'requested', 'level', 'of', 'doneness', 'lamb', 'has', 'a', 'bit', 'too', 'much', 'salt', 'for', 'my', 'liking', 'but', 'otherwise', 'fresh', 'and', 'flavorful', 'good', 'char', 'on', 'all', 'the', 'meat', 'no', 'one', 'in', 'our', 'party', 'of', 'three', 'cared', 'for', 'the', 'charred', 'bread', 'accompanying', 'the', 'meats', 'salads', 'that', 'came', 'with', 'each', 'meat', 'were', 'lightly', 'dressed', 'in', 'a', 'vinaigrette', 'empanadas', 'were', 'amazing', 'the', 'pork', 'empanada', 'was', 'our', 'fave', 'sides', 'of', 'cauliflower', 'broccolini', 'and', 'green', 'beans', 'were', 'simple', 'and', 'tasty', 'service', 'you', 'line', 'up', 'and', 'order', 'from', 'the', 'main', 'counter', 'there', 'is', 'no', 'table', 'service', 'drinks', 'first', 'then', 'food', 'staff', 'are', 'proficient', 'in', 'explaining', 'whats', 'on', 'the', 'menu', 'which', 'is', 'a', 'massive', 'chalkboard', 'on', 'a', 'wall', 'as', 'you', 'enter', 'based', 'on', 'your', 'time', 'in', 'line', 'you', 'should', 'have', 'plenty', 'of', 'time', 'to', 'review', 'whats', 'on', 'the', 'menu', 'specials', 'are', 'posted', 'lower', 'on', 'smaller', 'individual', 'chalkboards', 'near', 'the', 'front', 'of', 'the', 'line', 'cost', 'a', 'small', 'lamb', '6oz', 'ribeye', 'and', '6oz', 'ny', 'strip', 'steak', 'with', 'side', 'salads', '6', 'pc', 'shrimp', 'appetizer', 'sides', 'of', 'cauliflower', 'green', 'beans', 'and', 'broccolini', 'with', 'a', 'pork', 'empanada', 'and', 'a', 'chicken', 'empanada', 'ran', 'us', 'about', '85', 'after', 'tax', 'not', 'cheap', 'and', 'portions', 'are', 'soso', 'overall', 'i', 'wouldnt', 'line', 'up', 'for', 'it', 'again', 'but', 'its', 'worth', 'a', 'try', 'they', 'do', 'have', 'a', 'sign', 'for', 'the', 'last', 'group', 'to', 'be', 'seated', 'to', 'hold', 'noting', 'they', 'are', 'the', 'end', 'of', 'the', 'line', 'this', 'is', 'so', 'more', 'folks', 'dont', 'wait', 'in', 'line', 'in', 'case', 'they', 'run', 'out', 'of', 'food']]\n"
     ]
    }
   ],
   "source": [
    "review_docs = reviews_rdd.map(lambda x : x['text'].lower().split())\n",
    "review_docs = review_docs.map(lambda x : [pattern.sub('', w) for w in x])\n",
    "print(review_docs.take(2))"
   ]
  },
  {
   "cell_type": "code",
   "execution_count": 10,
   "metadata": {
    "collapsed": true
   },
   "outputs": [],
   "source": [
    "word2vec_model = Word2Vec().setVectorSize(10).setSeed(42).fit(review_docs)"
   ]
  },
  {
   "cell_type": "code",
   "execution_count": 11,
   "metadata": {},
   "outputs": [
    {
     "name": "stdout",
     "output_type": "stream",
     "text": [
      "Words most similar to  salt  :  ['piled', 'mayo', 'dressing', 'grain', 'balsamic']\n",
      "Words most similar to  pepper  :  ['oil', 'egg', 'parm', 'onions', 'sliced']\n",
      "Words most similar to  restaurant  :  ['location', 'neighborhood', 'southside', 'diner', 'pittsburghthe']\n",
      "Words most similar to  italian  :  ['comparable', 'gelato', 'west', 'burrito', 'irish']\n",
      "Words most similar to  indian  :  ['broccolini', 'melt', 'pastor', 'blew', 'sticky']\n",
      "Words most similar to  chinese  :  ['sum', 'density', 'these', 'authentic', 'szechuan']\n",
      "Words most similar to  direction  :  ['rinds', 'eaw', 'names', 'instantly', 'citrus']\n",
      "Words most similar to  pittsburgh  :  ['one', 'tradition', 'oakland', 'goto', 'handsdown']\n",
      "Words most similar to  burgh  :  ['experiences', 'restaurants', 'hands', 'remodeled', 'best']\n",
      "Words most similar to  city  :  ['skyline', 'southside', 'oakland', 'construction', 'shops']\n",
      "Words most similar to  location  :  ['restaurant', 'neighborhood', 'diner', 'homey', 'spot']\n",
      "Words most similar to  cmu  :  ['across', 'streets', 'saturdays', 'lower', 'story']\n",
      "Words most similar to  pizza  :  ['born', 'specifically', 'skillet', 'western', 'walks']\n"
     ]
    }
   ],
   "source": [
    "for word in ['salt', 'pepper', 'restaurant', 'italian', 'indian', 'chinese', 'direction', 'pittsburgh', 'burgh', 'city', 'location', 'cmu', 'pizza']:\n",
    "    syms = word2vec_model.findSynonyms(word, 5)\n",
    "    print('Words most similar to ', word, ' : ', [s[0] for s in syms])"
   ]
  },
  {
   "cell_type": "markdown",
   "metadata": {},
   "source": [
    "##### Now we can see a bag of similar words for a given word. For example, people who are interested in italian food, would they be interested in trying irish food as well?"
   ]
  },
  {
   "cell_type": "markdown",
   "metadata": {
    "collapsed": true
   },
   "source": [
    "### In conclusion, there is a wealth of information from user generated yelp reviews that can be discovered with common text mining models. With more data on hand, we could make these models more accurate."
   ]
  },
  {
   "cell_type": "markdown",
   "metadata": {},
   "source": [
    "## Appendix "
   ]
  },
  {
   "cell_type": "markdown",
   "metadata": {},
   "source": [
    "The following is the code we used for data scraping. We used beautiful soup, request to parse html and wrote the data to a json file. This part takes a while to run.  "
   ]
  },
  {
   "cell_type": "code",
   "execution_count": null,
   "metadata": {
    "collapsed": true
   },
   "outputs": [],
   "source": [
    "import io, time, json\n",
    "import requests\n",
    "from bs4 import BeautifulSoup"
   ]
  },
  {
   "cell_type": "code",
   "execution_count": null,
   "metadata": {
    "collapsed": true
   },
   "outputs": [],
   "source": [
    "def parse_business(html):   \n",
    "    \n",
    "    root = BeautifulSoup(html, 'html.parser')\n",
    "    businessblocks = root.find_all('li', class_ = \"regular-search-result\")\n",
    "    dictlist = []\n",
    "    \n",
    "    for i in businessblocks:\n",
    "        newdict = {}\n",
    "        \n",
    "        temp = i.find(class_ = 'natural-search-result')\n",
    "        newdict['business_id'] = temp.attrs['data-biz-id']\n",
    "        \n",
    "        temp = i.find_all('a', class_ = \"biz-name js-analytics-click\")\n",
    "        content = BeautifulSoup(str(temp), 'html.parser')\n",
    "        newdict['biz_name'] = content.text[1:-1]\n",
    "        \n",
    "        temp = i.find_all('div', class_ = 'i-stars')\n",
    "        newdict['rating'] = round(float(temp[0]['title'][0:3]),1)\n",
    "        \n",
    "        temp = i.find_all('span', class_ = 'business-attribute price-range')\n",
    "        content = BeautifulSoup(str(temp), 'html.parser')\n",
    "        newdict['price_range'] = len(content.text[1:-1])\n",
    "        \n",
    "        dictlist.append(newdict)\n",
    "    \n",
    "    url = None\n",
    "    nextpage = root.find_all('a', class_ =\"u-decoration-none next pagination-links_anchor\")\n",
    "    linksoup = BeautifulSoup(str(nextpage), 'html.parser')\n",
    "    for link in linksoup.find_all('a'):\n",
    "        url = str(link.attrs['href'])\n",
    "        url = 'https://www.yelp.com' + url\n",
    "        \n",
    "    return (dictlist, url)"
   ]
  },
  {
   "cell_type": "code",
   "execution_count": null,
   "metadata": {
    "collapsed": true
   },
   "outputs": [],
   "source": [
    "def extract_biz(url):\n",
    "    \n",
    "    response = requests.get(url).text \n",
    "    mydict, nextpage =  parse_business(response)\n",
    "    biz = mydict\n",
    "    while nextpage is not None:\n",
    "        html = requests.get(nextpage).text\n",
    "        mydict, nextpage = parse_business(html)\n",
    "        biz += mydict\n",
    "    return biz\n",
    "    \n",
    "    pass"
   ]
  },
  {
   "cell_type": "code",
   "execution_count": null,
   "metadata": {
    "collapsed": true
   },
   "outputs": [],
   "source": [
    "biz = extract_biz('https://www.yelp.com/search?find_desc=&find_loc=Pittsburgh%2C+PA')"
   ]
  },
  {
   "cell_type": "code",
   "execution_count": null,
   "metadata": {
    "collapsed": true
   },
   "outputs": [],
   "source": [
    "html = requests.get('https://www.yelp.com/search?find_desc=&find_loc=Pittsburgh%2C+PA').text\n",
    "mydict1, url = parse_business(html)"
   ]
  },
  {
   "cell_type": "code",
   "execution_count": null,
   "metadata": {
    "collapsed": true
   },
   "outputs": [],
   "source": [
    "def parse_review(html):   \n",
    "    \n",
    "    root = BeautifulSoup(html, 'html.parser')\n",
    "    reviewblocks = root.find_all('div', class_ = \"review review--with-sidebar\")\n",
    "    dictlist = []\n",
    "    for i in reviewblocks:\n",
    "        newdict = {}\n",
    "        newdict['review_id'] = i.attrs['data-review-id']\n",
    "        newdict['user_id'] = i.attrs['data-signup-object'][8:]\n",
    "        \n",
    "        temp = i.find_all('div', class_ = 'i-stars')      \n",
    "        newdict['rating'] = round(float(temp[0]['title'][0:3]),1)\n",
    "            \n",
    "        date = i.find_all('span', class_ = \"rating-qualifier\")\n",
    "        soup = BeautifulSoup(str(date), 'html.parser')\n",
    "        t = soup.find('span',{'class':'rating-qualifier'})\n",
    "        newdict['date'] = t.text.strip()\n",
    "        \n",
    "        content = str(i.find_all('p', lang = 'en'))\n",
    "        contentsoup = BeautifulSoup(content, 'html.parser')\n",
    "        newdict['text'] = contentsoup.text[1:-1]\n",
    "        \n",
    "        newdict['votes'] = {}\n",
    "        temp = i.find_all('span', class_ = 'count')      \n",
    "        votesoup = BeautifulSoup(str(temp), 'html.parser')\n",
    "        votes = votesoup.text[1:-1].split(\",\")\n",
    "        #print(votes)\n",
    "        votes_count = list(map(lambda x : 0.0 if x.strip() == '' else float(x.strip()), votes))\n",
    "        newdict['votes']['useful'] = votes_count[0]\n",
    "        newdict['votes']['funny'] = votes_count[1]\n",
    "        newdict['votes']['cool'] = votes_count[2]\n",
    "        \n",
    "       \n",
    "        temp = i.find_all('a', class_ = \"user-display-name js-analytics-click\")      \n",
    "        namesoup = BeautifulSoup(str(temp), 'html.parser')\n",
    "        name = namesoup.text[1:-1].split(\" \")\n",
    "        newdict['name'] = name[0]\n",
    "        \n",
    "        dictlist.append(newdict)\n",
    "    \n",
    "    url = None\n",
    "    nextpage = root.find_all('a', class_ =\"u-decoration-none next pagination-links_anchor\")\n",
    "    linksoup = BeautifulSoup(str(nextpage), 'html.parser')\n",
    "    for link in linksoup.find_all('a'):\n",
    "        url = str(link.attrs['href'])\n",
    "      \n",
    "    return (dictlist, url) \n",
    "\n",
    "    pass"
   ]
  },
  {
   "cell_type": "code",
   "execution_count": null,
   "metadata": {
    "collapsed": true
   },
   "outputs": [],
   "source": [
    "def extract_reviews(url):\n",
    "    response = requests.get(url).text \n",
    "    mydict, nextpage =  parse_review(response)\n",
    "    reviews = mydict\n",
    "    while nextpage is not None:\n",
    "        html = requests.get(nextpage).text\n",
    "        mydict, nextpage = parse_review(html)\n",
    "        reviews += mydict\n",
    "        if len(reviews) > 100:\n",
    "            break\n",
    "    return reviews\n",
    "    \n",
    "    pass"
   ]
  },
  {
   "cell_type": "code",
   "execution_count": null,
   "metadata": {
    "collapsed": true
   },
   "outputs": [],
   "source": [
    "reviews = []\n",
    "for i in range(len(biz)):\n",
    "    biz_id = biz[i]['business_id']\n",
    "    url = 'https://www.yelp.com/biz/'+ biz_id\n",
    "    review = extract_reviews(url)\n",
    "    for item in review:\n",
    "        item.update({'business_id': biz_id})\n",
    "    reviews += review"
   ]
  },
  {
   "cell_type": "code",
   "execution_count": null,
   "metadata": {
    "collapsed": true
   },
   "outputs": [],
   "source": [
    "import csv\n",
    "\n",
    "keys = reviews[0].keys()\n",
    "with open('reviews.csv', 'w') as output_file:\n",
    "    dict_writer = csv.DictWriter(output_file, keys)\n",
    "    dict_writer.writeheader()\n",
    "    dict_writer.writerows(reviews)"
   ]
  },
  {
   "cell_type": "code",
   "execution_count": null,
   "metadata": {
    "collapsed": true
   },
   "outputs": [],
   "source": [
    "import json \n",
    "\n",
    "with open('reviews.txt', 'a') as output_file:\n",
    "    for r in review:\n",
    "        json.dump(r, output_file)\n",
    "        output_file.write('\\n')"
   ]
  }
 ],
 "metadata": {
  "kernelspec": {
   "display_name": "Python 3",
   "language": "python",
   "name": "python3"
  },
  "language_info": {
   "codemirror_mode": {
    "name": "ipython",
    "version": 3
   },
   "file_extension": ".py",
   "mimetype": "text/x-python",
   "name": "python",
   "nbconvert_exporter": "python",
   "pygments_lexer": "ipython3",
   "version": "3.6.3"
  }
 },
 "nbformat": 4,
 "nbformat_minor": 2
}
